{
 "metadata": {
  "name": ""
 },
 "nbformat": 3,
 "nbformat_minor": 0,
 "worksheets": [
  {
   "cells": [
    {
     "cell_type": "markdown",
     "metadata": {
      "slideshow": {
       "slide_type": "slide"
      }
     },
     "source": [
      "NEMO v3.4, equations and algorithms\n",
      "====\n",
      "\n",
      "\n",
      "####By Oleksandr (Sasha) Huziy"
     ]
    },
    {
     "cell_type": "markdown",
     "metadata": {
      "slideshow": {
       "slide_type": "slide"
      }
     },
     "source": [
      "Introduction\n",
      "=====\n",
      "\n",
      "* NEMO is a 3D hydrostatic ocean model developed in several institutes in Europe\n",
      "* Is able to model ice (dynamics and thermodynamics) either using 2 embedded ice modules (LIM2 and LIM3) or by including external code of CICE  sea ice model"
     ]
    },
    {
     "cell_type": "markdown",
     "metadata": {
      "slideshow": {
       "slide_type": "slide"
      }
     },
     "source": [
      "Continuous equations solved by the Ocean model\n",
      "====="
     ]
    },
    {
     "cell_type": "code",
     "collapsed": false,
     "input": [],
     "language": "python",
     "metadata": {},
     "outputs": []
    }
   ],
   "metadata": {}
  }
 ]
}