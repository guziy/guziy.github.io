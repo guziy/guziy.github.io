{
 "metadata": {
  "name": ""
 },
 "nbformat": 3,
 "nbformat_minor": 0,
 "worksheets": [
  {
   "cells": [
    {
     "cell_type": "markdown",
     "metadata": {
      "slideshow": {
       "slide_type": "slide"
      }
     },
     "source": [
      "NEMO v3.4, equations and algorithms\n",
      "====\n",
      "\n",
      "\n",
      "####By Oleksandr (Sasha) Huziy\n",
      "\n",
      "For more details, please, see the model documentation for the corresponding version"
     ]
    },
    {
     "cell_type": "markdown",
     "metadata": {
      "slideshow": {
       "slide_type": "slide"
      }
     },
     "source": [
      "Introduction\n",
      "=====\n",
      "\n",
      "* NEMO is a 3D hydrostatic ocean model developed in several institutes in Europe\n",
      "* Is able to model ice (dynamics and thermodynamics) either using 2 embedded ice modules (LIM2 and LIM3) or by including external code of CICE  sea ice model"
     ]
    },
    {
     "cell_type": "markdown",
     "metadata": {
      "slideshow": {
       "slide_type": "slide"
      }
     },
     "source": [
      "Assumptions made in NEMO\n",
      "=====\n",
      "\n",
      "* Spherical earth approximation\n",
      "* Thin-shell approximation\n",
      "* Turbulent closure hypothesis\n",
      "* Boussinesq hypothesis: density variations are neglected except in their contribution to the buoyancy force\n",
      "* Hydrostatic hypothesis\n",
      "* Incompressibility hypothesis"
     ]
    },
    {
     "cell_type": "markdown",
     "metadata": {
      "slideshow": {
       "slide_type": "slide"
      }
     },
     "source": [
      "Continuous equations solved by the Ocean model\n",
      "====="
     ]
    },
    {
     "cell_type": "markdown",
     "metadata": {},
     "source": [
      "$$\n",
      "\\partial_t \\vec{U_{h}} = \\left[ \\left(\\nabla \\times \\vec{U}\\right)\\times \\vec{U} + \\frac{1}{2}\\nabla \\left(\\vec{U}^2\\right) \\right]_{h} - f \\vec{k}\\times \\vec{U_h} - \\frac{1}{\\rho_0}\\nabla_h p + \\vec{D^U} + \\vec{F^U}\\\\\n",
      "\\partial_z p = -\\rho g \\\\\n",
      "\\nabla\\cdot \\vec{U} = 0 \\\\\n",
      "\\partial_t T = -\\nabla\\left(T\\vec{U}\\right) + D^T + F^T \\\\\n",
      "\\partial_t S = -\\nabla\\left(S\\vec{U}\\right) + D^S + F^S \\\\\n",
      "\\rho = \\rho\\left(T, S, p\\right)\n",
      "$$\n",
      "\n",
      "$D$ - parameterisations of small scale physics, $F$ - surface forcing terms."
     ]
    },
    {
     "cell_type": "markdown",
     "metadata": {
      "slideshow": {
       "slide_type": "slide"
      }
     },
     "source": [
      "Boundary conditions\n",
      "====\n",
      "**Image taken from NEMO documentation:**\n",
      "\n",
      "<img src=\"files/images/domain_scheme.png\"/>\n",
      "\n",
      "Domain has atmosphere-ocean, ice-ocean and land-ocean interfaces, where the boundary conditions should be set."
     ]
    },
    {
     "cell_type": "markdown",
     "metadata": {
      "slideshow": {
       "slide_type": "slide"
      }
     },
     "source": [
      "Boundary conditions\n",
      "====\n",
      "\n",
      "* **Bottom:**\n",
      "    $$\n",
      "    w = -\\vec{U_h}\\cdot\\nabla_h \\left( H \\right)\n",
      "    $$\n",
      "    In addition to this small scale exchanges are parameterized in $\\vec{D^{U}}$.\n",
      "\n",
      "\n",
      "* **Atmosphere-ocean:**\n",
      "    $$\n",
      "    w = \\partial_{t}\\eta + \\vec{U_h} \\cdot \\nabla \\left( \\eta \\right) + P - E\n",
      "    $$\n",
      "    \n",
      "    $p(\\eta - 0) = p(\\eta + 0)$ - pressure continuity across the boundary\n",
      "    \n",
      "    Atmosphere and ocean also exchange horizontal momentum (wind stress) and heat. \n",
      "\n",
      "\n",
      "* **Sea ice - ocean:**\n",
      "    Exchange heat, salt, fresh water and momentum.\n",
      "    $T(x,y,\\eta, t) = 0$ - if ice present. Fresh water fluxes associated with freezing/melting are not negligible.\n"
     ]
    },
    {
     "cell_type": "markdown",
     "metadata": {
      "slideshow": {
       "slide_type": "slide"
      }
     },
     "source": [
      "Horizontal pressure gradient term\n",
      "====="
     ]
    },
    {
     "cell_type": "markdown",
     "metadata": {
      "slideshow": {
       "slide_type": "slide"
      }
     },
     "source": [
      "References\n",
      "======\n",
      "\n",
      "* Gurvan Madec, and the NEMO team, 2012: \"NEMO Ocean engine\""
     ]
    },
    {
     "cell_type": "code",
     "collapsed": false,
     "input": [],
     "language": "python",
     "metadata": {},
     "outputs": []
    }
   ],
   "metadata": {}
  }
 ]
}