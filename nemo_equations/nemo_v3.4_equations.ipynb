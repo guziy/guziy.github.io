{
 "metadata": {
  "name": ""
 },
 "nbformat": 3,
 "nbformat_minor": 0,
 "worksheets": [
  {
   "cells": [
    {
     "cell_type": "markdown",
     "metadata": {
      "slideshow": {
       "slide_type": "slide"
      }
     },
     "source": [
      "NEMO v3.4, equations and algorithms\n",
      "====\n",
      "\n",
      "\n",
      "####By Oleksandr (Sasha) Huziy"
     ]
    },
    {
     "cell_type": "markdown",
     "metadata": {
      "slideshow": {
       "slide_type": "slide"
      }
     },
     "source": [
      "Introduction\n",
      "=====\n",
      "\n",
      "* NEMO is a 3D hydrostatic ocean model developed in several institutes in Europe\n",
      "* Is able to model ice (dynamics and thermodynamics) either using 2 embedded ice modules (LIM2 and LIM3) or by including external code of CICE  sea ice model"
     ]
    },
    {
     "cell_type": "markdown",
     "metadata": {
      "slideshow": {
       "slide_type": "slide"
      }
     },
     "source": [
      "Continuous equations solved by the Ocean model\n",
      "====="
     ]
    },
    {
     "cell_type": "markdown",
     "metadata": {},
     "source": [
      "$$\n",
      "\\partial_t \\vec{U_{h}} = \\left[ \\left(\\nabla \\times \\vec{U}\\right)\\times \\vec{U} + \\frac{1}{2}\\nabla \\left(\\vec{U}^2\\right) \\right]_{h} - f \\vec{k}\\times \\vec{U_h} - \\frac{1}{\\rho_0}\\nabla_h p + \\vec{D^U} + \\vec{F^U}\\\\\n",
      "\\partial_z p = -\\rho g \\\\\n",
      "\\nabla\\cdot \\vec{U} = 0 \\\\\n",
      "\\partial_t T = -\\nabla\\left(T\\vec{U}\\right) + D^T + F^T \\\\\n",
      "\\partial_t S = -\\nabla\\left(S\\vec{U}\\right) + D^S + F^S \\\\\n",
      "\\rho = \\rho\\left(T, S, p\\right)\n",
      "$$\n",
      "\n",
      "$D$ - parameterisations of small scale physics, $F$ - surface forcing terms."
     ]
    },
    {
     "cell_type": "markdown",
     "metadata": {
      "slideshow": {
       "slide_type": "-"
      }
     },
     "source": []
    }
   ],
   "metadata": {}
  }
 ]
}