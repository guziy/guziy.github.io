{
 "metadata": {
  "name": ""
 },
 "nbformat": 3,
 "nbformat_minor": 0,
 "worksheets": [
  {
   "cells": [
    {
     "cell_type": "code",
     "collapsed": false,
     "input": [
      "#tests\n",
      "\n",
      "hor_diff_str = \"\"\"\n",
      "horizontal diffusion       u=  0.0000000000000E+00    v=  0.0000000000000E+00\n",
      " horizontal diffusion       u=  0.0000000000000E+00    v=  0.0000000000000E+00\n",
      " horizontal diffusion       u= -0.8495292914566E-09    v=  0.8883325269584E-08\n",
      " horizontal diffusion       u= -0.1050538940781E-08    v=  0.1691959328924E-07\n",
      " horizontal diffusion       u= -0.2596092231468E-09    v=  0.3487690448237E-08\n",
      " horizontal diffusion       u= -0.8084873060257E-09    v= -0.2800029673444E-07\n",
      " horizontal diffusion       u= -0.5179133237204E-08    v=  0.2056063257164E-07\n",
      " horizontal diffusion       u= -0.3811277964035E-08    v=  0.2246624165030E-06\n",
      " horizontal diffusion       u=  0.2125988091320E-07    v=  0.1479548311098E-06\n",
      " horizontal diffusion       u=  0.2951198158475E-07    v= -0.1009811982148E-05\n",
      " horizontal diffusion       u= -0.1240158630690E-06    v= -0.1532821154778E-05\n",
      " horizontal diffusion       u= -0.3134714171130E-06    v=  0.4816283415141E-05\n",
      " horizontal diffusion       u=  0.4573123505776E-06    v=  0.1326328643583E-04\n",
      " horizontal diffusion       u=  0.2531732264429E-05    v= -0.1787865151306E-04\n",
      "\"\"\"\n",
      "\n",
      "spg_str =\"\"\"\n",
      "surface pressure gradient  u= -0.6638951346521E-09    v=  0.1985862968951E-09\n",
      " surface pressure gradient  u= -0.6351163121849E-09    v=  0.7170981839219E-09\n",
      " surface pressure gradient  u= -0.1005086753649E-08    v= -0.2397900275933E-08\n",
      " surface pressure gradient  u= -0.2441040111394E-08    v= -0.4840447770312E-09\n",
      " surface pressure gradient  u= -0.4154192201292E-08    v=  0.1243325308426E-07\n",
      " surface pressure gradient  u= -0.4324663677488E-08    v=  0.2444672829374E-07\n",
      " surface pressure gradient  u= -0.3152532772296E-08    v= -0.1248027831609E-07\n",
      " surface pressure gradient  u= -0.9263971452571E-08    v= -0.8847024482189E-07\n",
      " surface pressure gradient  u= -0.2728262275403E-07    v=  0.5385873585544E-07\n",
      " surface pressure gradient  u= -0.1414357173278E-07    v=  0.5999759008278E-06\n",
      " surface pressure gradient  u=  0.9374654804442E-07    v=  0.2867525488438E-06\n",
      " surface pressure gradient  u=  0.1080898884484E-06    v= -0.3081497332127E-05\n",
      " surface pressure gradient  u= -0.5559085166951E-06    v= -0.4069988257815E-05\n",
      " surface pressure gradient  u= -0.1739399656570E-05    v=  0.1353077512770E-04\n",
      "\"\"\"\n",
      "\n",
      "total_str = \"\"\"\n",
      " total trend                u=  0.1868137116623E-07    v= -0.6004026001891E-07\n",
      " total trend                u=  0.1747823797159E-07    v= -0.5992944281936E-07\n",
      " total trend                u=  0.1503763544570E-07    v= -0.5454638017052E-07\n",
      " total trend                u=  0.1238299698073E-07    v= -0.4492882990336E-07\n",
      " total trend                u=  0.1063337252174E-07    v= -0.4569535462205E-07\n",
      " total trend                u=  0.8951207067341E-08    v= -0.6536272742287E-07\n",
      " total trend                u=  0.4360894201677E-08    v= -0.5405322791715E-07\n",
      " total trend                u= -0.1096287354428E-08    v=  0.7346563928443E-07\n",
      " total trend                u=  0.8401694673514E-08    v=  0.1391050277749E-06\n",
      " total trend                u=  0.3250292566553E-07    v= -0.4674805605479E-06\n",
      " total trend                u= -0.2380736970902E-07    v= -0.1289619356924E-05\n",
      " total trend                u= -0.2428085119806E-06    v=  0.1534038505635E-05\n",
      " total trend                u= -0.8899212680878E-07    v=  0.8640666230191E-05\n",
      " total trend                u=  0.1981370179046E-05    v= -0.6561061608052E-06\n",
      "\"\"\"\n",
      "\n",
      "\n",
      "def parse_needed(s):\n",
      "    res = []\n",
      "    for line in s.split(\"\\n\"):\n",
      "        line = line.strip()\n",
      "        if line == \"\": continue\n",
      "        res.append(float(line.split(\"u=\")[1].split()[0]))\n",
      "    return res\n",
      "        \n",
      "import math"
     ],
     "language": "python",
     "metadata": {},
     "outputs": [],
     "prompt_number": 11
    },
    {
     "cell_type": "code",
     "collapsed": false,
     "input": [
      "spg = parse_needed(spg_str)\n",
      "ldf = parse_needed(hor_diff_str)\n",
      "total = parse_needed(total_str)"
     ],
     "language": "python",
     "metadata": {},
     "outputs": [],
     "prompt_number": 17
    },
    {
     "cell_type": "code",
     "collapsed": false,
     "input": [
      "for the_spg, the_ldf, the_total in zip(spg, ldf, total):\n",
      "    tpl = \"spg = {0:>8.1g}; ldf = {1:>8.1g}; the_sum = {2:>8.1g}; total = {3:>8.1g}\"\n",
      "    print tpl.format(the_spg, the_ldf, the_spg + the_ldf, the_total)"
     ],
     "language": "python",
     "metadata": {},
     "outputs": [
      {
       "output_type": "stream",
       "stream": "stdout",
       "text": [
        "spg =   -7e-10; ldf =        0; the_sum =   -7e-10; total =    2e-08\n",
        "spg =   -6e-10; ldf =        0; the_sum =   -6e-10; total =    2e-08\n",
        "spg =   -1e-09; ldf =   -8e-10; the_sum =   -2e-09; total =    2e-08\n",
        "spg =   -2e-09; ldf =   -1e-09; the_sum =   -3e-09; total =    1e-08\n",
        "spg =   -4e-09; ldf =   -3e-10; the_sum =   -4e-09; total =    1e-08\n",
        "spg =   -4e-09; ldf =   -8e-10; the_sum =   -5e-09; total =    9e-09\n",
        "spg =   -3e-09; ldf =   -5e-09; the_sum =   -8e-09; total =    4e-09\n",
        "spg =   -9e-09; ldf =   -4e-09; the_sum =   -1e-08; total =   -1e-09\n",
        "spg =   -3e-08; ldf =    2e-08; the_sum =   -6e-09; total =    8e-09\n",
        "spg =   -1e-08; ldf =    3e-08; the_sum =    2e-08; total =    3e-08\n",
        "spg =    9e-08; ldf =   -1e-07; the_sum =   -3e-08; total =   -2e-08\n",
        "spg =    1e-07; ldf =   -3e-07; the_sum =   -2e-07; total =   -2e-07\n",
        "spg =   -6e-07; ldf =    5e-07; the_sum =   -1e-07; total =   -9e-08\n",
        "spg =   -2e-06; ldf =    3e-06; the_sum =    8e-07; total =    2e-06\n"
       ]
      }
     ],
     "prompt_number": 43
    },
    {
     "cell_type": "code",
     "collapsed": false,
     "input": [
      "365*1*24*60*60/(600.0)"
     ],
     "language": "python",
     "metadata": {},
     "outputs": [
      {
       "metadata": {},
       "output_type": "pyout",
       "prompt_number": 46,
       "text": [
        "52560.0"
       ]
      }
     ],
     "prompt_number": 46
    },
    {
     "cell_type": "code",
     "collapsed": false,
     "input": [
      "365*24 *30"
     ],
     "language": "python",
     "metadata": {},
     "outputs": [
      {
       "metadata": {},
       "output_type": "pyout",
       "prompt_number": 2,
       "text": [
        "262800"
       ]
      }
     ],
     "prompt_number": 2
    },
    {
     "cell_type": "code",
     "collapsed": false,
     "input": [],
     "language": "python",
     "metadata": {},
     "outputs": []
    }
   ],
   "metadata": {}
  }
 ]
}