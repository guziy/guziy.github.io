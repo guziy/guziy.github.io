{
 "metadata": {
  "name": ""
 },
 "nbformat": 3,
 "nbformat_minor": 0,
 "worksheets": [
  {
   "cells": [
    {
     "cell_type": "markdown",
     "metadata": {
      "slideshow": {
       "slide_type": "slide"
      }
     },
     "source": [
      "Data handling and visualization using Python\n",
      "=============================================\n",
      "\n",
      "\n",
      "CNRCWP: student workshop\n",
      "\n",
      "*Oleksandr (Sasha) Huziy*\n",
      "\n",
      "\n",
      "UQ\u00c0M, December 2013\n",
      "\n",
      "\n",
      "<table class=\"logo\">\n",
      "    <tr><td>\n",
      "        <img src=\"files/logo_2.png\"/> <img src=\"files/crsng.png\"/> <img src=\"files/logo_uqam_0.png\"/>\n",
      "    </td></tr>\n",
      "</table>"
     ]
    },
    {
     "cell_type": "markdown",
     "metadata": {
      "slideshow": {
       "slide_type": "slide"
      }
     },
     "source": [
      "Outline part I\n",
      "========\n",
      "\n",
      "* **Python basics**\n",
      "\n",
      "    * Builtin data types\n",
      "    \n",
      "    * Operations on file system, strings and dates\n",
      "    \n",
      "    * Modules, classes and functions\n",
      "\n",
      "\n",
      "* **Libraries for scientific computing**\n",
      "\n",
      "    * NumPy/SciPy\n",
      "\n",
      "\n",
      "\n",
      "* **Handling NetCDF4 files**\n",
      "    \n",
      "    * Netcdf4-python"
     ]
    },
    {
     "cell_type": "markdown",
     "metadata": {
      "slideshow": {
       "slide_type": "slide"
      }
     },
     "source": [
      "Outline part II\n",
      "========\n",
      "\n",
      "* **Plotting libraries**\n",
      "\n",
      "    * Matplotlib\n",
      "\n",
      "    * Basemap\n",
      "    \n",
      "    \n",
      "* **Grouping and subsetting temporal data with ```pandas```**    \n",
      "\n",
      "\n",
      "* **Interpolation using ```cKDTree``` (```KDTree```) class**\n",
      "\n",
      "\n",
      "* **Speeding up your code**\n"
     ]
    },
    {
     "cell_type": "markdown",
     "metadata": {
      "slideshow": {
       "slide_type": "slide"
      }
     },
     "source": [
      "Introduction and history\n",
      "=====\n",
      "\n",
      "### Python is an interpreted, strictly typed programming language developed by *Guido Van Rossum*.\n",
      "\n",
      "\n",
      "### It was created in 90s of the previous century and has seen 3 major releases from that time. \n",
      "\n",
      "### There many implementations of Python (in C, Java, Python, ...), CPython implementation is used most widely and we are going to use it during the tutorial.\n",
      "\n",
      "\n",
      "\n"
     ]
    },
    {
     "cell_type": "markdown",
     "metadata": {
      "slideshow": {
       "slide_type": "slide"
      }
     },
     "source": [
      "Syntax \n",
      "======="
     ]
    },
    {
     "cell_type": "code",
     "collapsed": false,
     "input": [
      "#Variable decalaration <-This is a comment\n",
      "a = 10; b = \"mama\"; x = None;\n",
      "\n",
      "x = [1,2,4, 5, \"I am a fifth element\"]\n",
      "#looping\n",
      "for el in x:\n",
      "    #Checking conditions\n",
      "    if isinstance(el, int):\n",
      "        print(el ** 2 % 10),\n",
      "    else:\n",
      "        msg = \", but my index is {0}.\"\n",
      "        msg = msg.format(x.index(el))\n",
      "        print(el + msg),\n",
      "\n",
      "#now we are outside of the loop since no identation\n",
      "print \"\\nSomething ...\""
     ],
     "language": "python",
     "metadata": {},
     "outputs": [
      {
       "output_type": "stream",
       "stream": "stdout",
       "text": [
        "1 4 6 5 I am a fifth element, but my index is 4. \n",
        "Something ...\n"
       ]
      }
     ],
     "prompt_number": 22
    },
    {
     "cell_type": "markdown",
     "metadata": {
      "slideshow": {
       "slide_type": "subslide"
      }
     },
     "source": [
      "Syntax \n",
      "======="
     ]
    },
    {
     "cell_type": "code",
     "collapsed": false,
     "input": [
      "#accessing elements of a list\n",
      "x[3], x[-1], x[1:-1]"
     ],
     "language": "python",
     "metadata": {
      "slideshow": {
       "slide_type": "-"
      }
     },
     "outputs": [
      {
       "metadata": {},
       "output_type": "pyout",
       "prompt_number": 23,
       "text": [
        "(5, 'I am a fifth element', [2, 4, 5])"
       ]
      }
     ],
     "prompt_number": 23
    },
    {
     "cell_type": "markdown",
     "metadata": {
      "slideshow": {
       "slide_type": "subslide"
      }
     },
     "source": [
      "##Defining functions"
     ]
    },
    {
     "cell_type": "code",
     "collapsed": false,
     "input": [
      "def myfirst_func(x, name = \"Sasha\"):\n",
      "    \"\"\"\n",
      "    This is the comment describing method \n",
      "    arguments and what it actually does\n",
      "    x - dummy argument that demonstrates \n",
      "    use of positional arguments\n",
      "    name - demonstrates use of keyword arguments\n",
      "    \"\"\"\n",
      "    print \"Hello {0} !!!\".format(name)\n",
      "    return 2, None, x"
     ],
     "language": "python",
     "metadata": {
      "slideshow": {
       "slide_type": "-"
      }
     },
     "outputs": [],
     "prompt_number": 24
    },
    {
     "cell_type": "markdown",
     "metadata": {
      "slideshow": {
       "slide_type": "subslide"
      }
     },
     "source": [
      "##Calling functions"
     ]
    },
    {
     "cell_type": "code",
     "collapsed": false,
     "input": [
      "#Calling the function f\n",
      "myfirst_func(\"anything\", name = \"Oleks\") "
     ],
     "language": "python",
     "metadata": {
      "slideshow": {
       "slide_type": "-"
      }
     },
     "outputs": [
      {
       "output_type": "stream",
       "stream": "stdout",
       "text": [
        "Hello Oleks !!!\n"
       ]
      },
      {
       "metadata": {},
       "output_type": "pyout",
       "prompt_number": 25,
       "text": [
        "(2, None, 'anything')"
       ]
      }
     ],
     "prompt_number": 25
    },
    {
     "cell_type": "markdown",
     "metadata": {
      "slideshow": {
       "slide_type": "subslide"
      }
     },
     "source": [
      "##Defining a class"
     ]
    },
    {
     "cell_type": "code",
     "collapsed": false,
     "input": [
      "from datetime import datetime\n",
      "\n",
      "class Person(object):\n",
      "    #Example of a static class variable\n",
      "    population = 0 \n",
      "    def __init__(self, name = \"Sasha\"):\n",
      "        Person.population += 1\n",
      "        #instance fields\n",
      "        self._birthdate = datetime.now() #private attribute (conv.)\n",
      "        self.name = name #public attribute\n",
      "        \n",
      "    def my_moto(self):\n",
      "        return \"Go go {0}!!!\".format(self.name) \n",
      "    \n",
      "    def get_my_age(self):\n",
      "        return datetime.now() - self._birthdate"
     ],
     "language": "python",
     "metadata": {
      "slideshow": {
       "slide_type": "-"
      }
     },
     "outputs": [],
     "prompt_number": 26
    },
    {
     "cell_type": "markdown",
     "metadata": {
      "slideshow": {
       "slide_type": "subslide"
      }
     },
     "source": [
      "##Creating and manipulating objects"
     ]
    },
    {
     "cell_type": "code",
     "collapsed": false,
     "input": [
      "p1 = Person() #Creating an object of class Person\n",
      "##Create some more person objects\n",
      "for i in range(10):\n",
      "    p = Person()\n",
      "\n",
      "import time    \n",
      "time.sleep(5) #wait for 5 seconds\n",
      "print \"{0} persons were born.\".format(p1.population)\n",
      "print \"The age of the first is {0}\".format(p1.get_my_age())"
     ],
     "language": "python",
     "metadata": {},
     "outputs": [
      {
       "output_type": "stream",
       "stream": "stdout",
       "text": [
        "11 persons were born.\n",
        "The age of the first is 0:00:05.000415\n"
       ]
      }
     ],
     "prompt_number": 27
    },
    {
     "cell_type": "markdown",
     "metadata": {
      "slideshow": {
       "slide_type": "subslide"
      }
     },
     "source": [
      "Python basics - code hierarchy\n",
      "==============\n",
      "\n",
      "+ Each python file is a python module, it can contain function and class definitions\n",
      "\n",
      "\n",
      "+ A folder with python files and a file ```__init__.py``` (might be empty file) is called package\n",
      "\n"
     ]
    },
    {
     "cell_type": "markdown",
     "metadata": {
      "slideshow": {
       "slide_type": "subslide"
      }
     },
     "source": [
      "Exercises on basic syntax\n",
      "=====\n",
      "\n",
      "* Create a script `hello.py` in your favourite editor and add `print \"Hello world\"`, save and run it: `python hello.py`\n",
      "\n",
      "\n",
      "* Modify the script making it print squares of odd numbers from 13 to 61 inclusively.\n",
      "\n",
      "\n",
      "* What will this code print to console:\n",
      "\n",
      "\n",
      "<pre class=\"co\">\n",
      "    x = 1 #define a global variable\n",
      "    def my_function(argument = x):\n",
      "        print argument ** 2\n",
      "    #change the value of the global variable\n",
      "    x = 5\n",
      "    my_function() #call the function defined above\n",
      "</pre>"
     ]
    },
    {
     "cell_type": "code",
     "collapsed": false,
     "input": [
      "x = 1 #define a global variable\n",
      "def my_function(argument = x):\n",
      "    print argument ** 2\n",
      "#change the value of the global variable\n",
      "x = 5\n",
      "my_function() #call the function defined above"
     ],
     "language": "python",
     "metadata": {
      "slideshow": {
       "slide_type": "skip"
      }
     },
     "outputs": [
      {
       "output_type": "stream",
       "stream": "stdout",
       "text": [
        "1\n"
       ]
      }
     ],
     "prompt_number": 28
    },
    {
     "cell_type": "markdown",
     "metadata": {
      "slideshow": {
       "slide_type": "slide"
      }
     },
     "source": [
      "Builtin data containers\n",
      "=============\n",
      "##Python provides the following data structures. Which are actually classes with attributes and methods.\n",
      "\n",
      "* `list` (range, *, +, pop, len, accessing list elements, slices, last element, 5 last elements)\n",
      "\n",
      "  \n",
      "* `tuple` (not mutable, methods)\n",
      "\n",
      "\n",
      "* `dict` (accessing elements, keys, size)\n",
      "\n",
      "\n",
      "* `set` (set theoretical operations, cannot have 2 equal elements)\n",
      "\n"
     ]
    },
    {
     "cell_type": "heading",
     "level": 1,
     "metadata": {
      "slideshow": {
       "slide_type": "subslide"
      }
     },
     "source": [
      "Builtin data containers (lists)"
     ]
    },
    {
     "cell_type": "code",
     "collapsed": false,
     "input": [
      "#lists (you can conactenate and sort in place)\n",
      "the_list = [1,2,3,4,5]; other_list = 5 * [6];\n",
      "z = the_list + other_list\n",
      "print z"
     ],
     "language": "python",
     "metadata": {
      "slideshow": {
       "slide_type": "-"
      }
     },
     "outputs": [
      {
       "output_type": "stream",
       "stream": "stdout",
       "text": [
        "[1, 2, 3, 4, 5, 6, 6, 6, 6, 6]\n"
       ]
      }
     ],
     "prompt_number": 29
    },
    {
     "cell_type": "code",
     "collapsed": false,
     "input": [
      "#Test if a number is inside a list\n",
      "print 19 in z, 5 in z, 6 in the_list and 6 in other_list "
     ],
     "language": "python",
     "metadata": {
      "slideshow": {
       "slide_type": "-"
      }
     },
     "outputs": [
      {
       "output_type": "stream",
       "stream": "stdout",
       "text": [
        "False True False\n"
       ]
      }
     ],
     "prompt_number": 30
    },
    {
     "cell_type": "heading",
     "level": 1,
     "metadata": {
      "slideshow": {
       "slide_type": "subslide"
      }
     },
     "source": [
      "Builtin data containers (lists)"
     ]
    },
    {
     "cell_type": "code",
     "collapsed": false,
     "input": [
      "#square eleaments of a list\n",
      "#list comprehension\n",
      "print [the_el ** 2 for the_el in the_list] "
     ],
     "language": "python",
     "metadata": {
      "slideshow": {
       "slide_type": "-"
      }
     },
     "outputs": [
      {
       "output_type": "stream",
       "stream": "stdout",
       "text": [
        "[1, 4, 9, 16, 25]\n"
       ]
      }
     ],
     "prompt_number": 31
    },
    {
     "cell_type": "code",
     "collapsed": false,
     "input": [
      "#Generating list or iterable of integers\n",
      "the_range = range(1,20)\n",
      "print the_range"
     ],
     "language": "python",
     "metadata": {
      "slideshow": {
       "slide_type": "fragment"
      }
     },
     "outputs": [
      {
       "output_type": "stream",
       "stream": "stdout",
       "text": [
        "[1, 2, 3, 4, 5, 6, 7, 8, 9, 10, 11, 12, 13, 14, 15, 16, 17, 18, 19]\n"
       ]
      }
     ],
     "prompt_number": 32
    },
    {
     "cell_type": "heading",
     "level": 1,
     "metadata": {
      "slideshow": {
       "slide_type": "subslide"
      }
     },
     "source": [
      "Builtin data containers (lists)"
     ]
    },
    {
     "cell_type": "code",
     "collapsed": false,
     "input": [
      "##There are some utility functions that can be applied to lists\n",
      "print sum(the_list), \\\n",
      "      reduce(lambda x, y: x + y, the_list)"
     ],
     "language": "python",
     "metadata": {
      "slideshow": {
       "slide_type": "-"
      }
     },
     "outputs": [
      {
       "output_type": "stream",
       "stream": "stdout",
       "text": [
        "15 15\n"
       ]
      }
     ],
     "prompt_number": 33
    },
    {
     "cell_type": "code",
     "collapsed": false,
     "input": [
      "#loop through several lists at the same time\n",
      "for el1, el2 in zip(the_list, other_list):\n",
      "    print(el1+el2),"
     ],
     "language": "python",
     "metadata": {
      "slideshow": {
       "slide_type": "fragment"
      }
     },
     "outputs": [
      {
       "output_type": "stream",
       "stream": "stdout",
       "text": [
        "7 8 9 10 11\n"
       ]
      }
     ],
     "prompt_number": 34
    },
    {
     "cell_type": "markdown",
     "metadata": {
      "slideshow": {
       "slide_type": "subslide"
      }
     },
     "source": [
      "Builtin data containers (tuples)\n",
      "======"
     ]
    },
    {
     "cell_type": "code",
     "collapsed": false,
     "input": [
      "the_tuple = (1,2,3) #tuple is an immutable list, is hashable\n",
      "print the_tuple[-1]"
     ],
     "language": "python",
     "metadata": {
      "slideshow": {
       "slide_type": "-"
      }
     },
     "outputs": [
      {
       "output_type": "stream",
       "stream": "stdout",
       "text": [
        "3\n"
       ]
      }
     ],
     "prompt_number": 35
    },
    {
     "cell_type": "markdown",
     "metadata": {
      "slideshow": {
       "slide_type": "subslide"
      }
     },
     "source": [
      "Builtin data containers (tuples)\n",
      "======"
     ]
    },
    {
     "cell_type": "code",
     "collapsed": false,
     "input": [
      "#tuples are immutable, e.g:\n",
      "try:\n",
      "    the_tuple[1] = 25\n",
      "except TypeError, te:\n",
      "    print te"
     ],
     "language": "python",
     "metadata": {
      "slideshow": {
       "slide_type": "-"
      }
     },
     "outputs": [
      {
       "output_type": "stream",
       "stream": "stdout",
       "text": [
        "'tuple' object does not support item assignment\n"
       ]
      }
     ],
     "prompt_number": 36
    },
    {
     "cell_type": "markdown",
     "metadata": {
      "slideshow": {
       "slide_type": "subslide"
      }
     },
     "source": [
      "Builtin data containers (generators)\n",
      "======"
     ]
    },
    {
     "cell_type": "code",
     "collapsed": false,
     "input": [
      "#generator or they also call it iterable\n",
      "gen = (i for i in xrange(int(1e8))) \n",
      "\n",
      "#evaluated lazily\n",
      "print gen.next(), gen.next(), \\\n",
      "     [gen.next() for i in range(25)]"
     ],
     "language": "python",
     "metadata": {},
     "outputs": [
      {
       "output_type": "stream",
       "stream": "stdout",
       "text": [
        "0 1 [2, 3, 4, 5, 6, 7, 8, 9, 10, 11, 12, 13, 14, 15, 16, 17, 18, 19, 20, 21, 22, 23, 24, 25, 26]\n"
       ]
      }
     ],
     "prompt_number": 37
    },
    {
     "cell_type": "markdown",
     "metadata": {
      "slideshow": {
       "slide_type": "subslide"
      }
     },
     "source": [
      "Builtin data containers (generators)\n",
      "======"
     ]
    },
    {
     "cell_type": "code",
     "collapsed": false,
     "input": [
      "#An alternative way to iterate over generator\n",
      "accumulator = 0\n",
      "for the_elem in gen:\n",
      "    accumulator += the_elem\n",
      "    if accumulator > 100: break\n",
      "print accumulator"
     ],
     "language": "python",
     "metadata": {
      "slideshow": {
       "slide_type": "fragment"
      }
     },
     "outputs": [
      {
       "output_type": "stream",
       "stream": "stdout",
       "text": [
        "114\n"
       ]
      }
     ],
     "prompt_number": 38
    },
    {
     "cell_type": "markdown",
     "metadata": {
      "slideshow": {
       "slide_type": "subslide"
      }
     },
     "source": [
      "Builtin data containers (dictionary)\n",
      "====="
     ]
    },
    {
     "cell_type": "code",
     "collapsed": false,
     "input": [
      "#dictionary\n",
      "author_to_books = { \n",
      "\"Stephen King\": \n",
      "    [\"Carrie\",\"On writing\",\"Green Mile\"],\n",
      "\n",
      "\"Richard Feynman\": \n",
      "    [\"Lectures on computation\", \n",
      "     \"The pleasure of finding things out\"]\n",
      "}\n",
      "#add elements to a dictionary\n",
      "author_to_books[\"Andrey Kolmogorov\"] = \\\n",
      "        [\"Foundations Of The Theory Of Prob...\"]"
     ],
     "language": "python",
     "metadata": {
      "slideshow": {
       "slide_type": "-"
      }
     },
     "outputs": [],
     "prompt_number": 39
    },
    {
     "cell_type": "markdown",
     "metadata": {
      "slideshow": {
       "slide_type": "subslide"
      }
     },
     "source": [
      "Builtin data containers (dictionary)\n",
      "====="
     ]
    },
    {
     "cell_type": "code",
     "collapsed": false,
     "input": [
      "#print the list of authors\n",
      "print author_to_books.keys()"
     ],
     "language": "python",
     "metadata": {
      "slideshow": {
       "slide_type": "-"
      }
     },
     "outputs": [
      {
       "output_type": "stream",
       "stream": "stdout",
       "text": [
        "['Stephen King', 'Richard Feynman', 'Andrey Kolmogorov']\n"
       ]
      }
     ],
     "prompt_number": 40
    },
    {
     "cell_type": "code",
     "collapsed": false,
     "input": [
      "#Iterate over keys and values\n",
      "for author, book_list in author_to_books.iteritems():\n",
      "    suffix = \"s\" if len(book_list) > 1 else \"\"\n",
      "    print(\"{0} book{1} by {2};\\n\".format(len(book_list), suffix, author)),"
     ],
     "language": "python",
     "metadata": {
      "slideshow": {
       "slide_type": "fragment"
      }
     },
     "outputs": [
      {
       "output_type": "stream",
       "stream": "stdout",
       "text": [
        "3 books by Stephen King;\n",
        "2 books by Richard Feynman;\n",
        "1 book by Andrey Kolmogorov;\n"
       ]
      }
     ],
     "prompt_number": 41
    },
    {
     "cell_type": "markdown",
     "metadata": {
      "slideshow": {
       "slide_type": "subslide"
      }
     },
     "source": [
      "Exercises: builtin containers\n",
      "======"
     ]
    },
    {
     "cell_type": "markdown",
     "metadata": {
      "slideshow": {
       "slide_type": "-"
      }
     },
     "source": [
      "* Find a sum of squares of all odd integers that are smaller than 100 in one line of code (Hint: use list comprehensions)\n",
      "\n",
      "\n",
      "* Find out what does `enumerate` do.\n",
      "\n",
      "\n",
      "* Implement recursive fibonacci function with caching, which given the index of a fibonacci number returns its value."
     ]
    },
    {
     "cell_type": "markdown",
     "metadata": {
      "slideshow": {
       "slide_type": "slide"
      }
     },
     "source": [
      "Builtin modules and classes to operate on\n",
      "==============\n",
      "\n",
      "\n",
      "* File system (```os, shutil, sys```)\n",
      "\n",
      "    * create folder, list folder contents, check if file or folder exists \n",
      "\n",
      "\n",
      "* Strings (+, *, join, split, regular expressions) \n",
      "\n",
      "\n",
      "* Dates (datetime, timedelta, ) "
     ]
    },
    {
     "cell_type": "markdown",
     "metadata": {
      "slideshow": {
       "slide_type": "subslide"
      }
     },
     "source": [
      "#File system"
     ]
    },
    {
     "cell_type": "code",
     "collapsed": false,
     "input": [
      "import os\n",
      "#Check current directory\n",
      "print os.getcwd()"
     ],
     "language": "python",
     "metadata": {
      "slideshow": {
       "slide_type": "-"
      }
     },
     "outputs": [
      {
       "output_type": "stream",
       "stream": "stdout",
       "text": [
        "/Users/huziy/guziy.github.io/CNRCWP_student_workshop_2013-12-17\n"
       ]
      }
     ],
     "prompt_number": 42
    },
    {
     "cell_type": "markdown",
     "metadata": {
      "slideshow": {
       "slide_type": "subslide"
      }
     },
     "source": [
      "#File system"
     ]
    },
    {
     "cell_type": "code",
     "collapsed": false,
     "input": [
      "#get list of files in the current directory\n",
      "flist = os.listdir(\".\")\n",
      "print flist[:7]"
     ],
     "language": "python",
     "metadata": {
      "slideshow": {
       "slide_type": "-"
      }
     },
     "outputs": [
      {
       "output_type": "stream",
       "stream": "stdout",
       "text": [
        "['.gitignore', '.ipynb_checkpoints', 'countries', 'crsng.png', 'custom.css', 'default_transition.tpl', 'Exercises.html']\n"
       ]
      }
     ],
     "prompt_number": 43
    },
    {
     "cell_type": "markdown",
     "metadata": {
      "slideshow": {
       "slide_type": "subslide"
      }
     },
     "source": [
      "#File system"
     ]
    },
    {
     "cell_type": "code",
     "collapsed": false,
     "input": [
      "#Check if file exists\n",
      "fname = flist[0]\n",
      "print os.path.isfile(fname), \\\n",
      "      os.path.isdir(fname),  \\\n",
      "      os.path.islink(fname)"
     ],
     "language": "python",
     "metadata": {
      "slideshow": {
       "slide_type": "-"
      }
     },
     "outputs": [
      {
       "output_type": "stream",
       "stream": "stdout",
       "text": [
        "True False False\n"
       ]
      }
     ],
     "prompt_number": 44
    },
    {
     "cell_type": "markdown",
     "metadata": {
      "slideshow": {
       "slide_type": "fragment"
      }
     },
     "source": [
      "You might also find useful the following modules: `sys, shutil, path` "
     ]
    },
    {
     "cell_type": "markdown",
     "metadata": {
      "slideshow": {
       "slide_type": "subslide"
      }
     },
     "source": [
      "#Strings"
     ]
    },
    {
     "cell_type": "code",
     "collapsed": false,
     "input": [
      "s = \"mama\"\n",
      "#reverse (also works for lists)\n",
      "print s[-1::-1]"
     ],
     "language": "python",
     "metadata": {},
     "outputs": [
      {
       "output_type": "stream",
       "stream": "stdout",
       "text": [
        "amam\n"
       ]
      }
     ],
     "prompt_number": 45
    },
    {
     "cell_type": "code",
     "collapsed": false,
     "input": [
      "#Dynamically changing parts of a string\n",
      "tpl = \"My name is {0}. I am doing my {1}.\\nI am {2} old.\\nWeight is {3:.3f} kg\"\n",
      "print tpl.format(\"Black\", \"PhD\", 25, 80.7823)"
     ],
     "language": "python",
     "metadata": {
      "slideshow": {
       "slide_type": "fragment"
      }
     },
     "outputs": [
      {
       "output_type": "stream",
       "stream": "stdout",
       "text": [
        "My name is Black. I am doing my PhD.\n",
        "I am 25 old.\n",
        "Weight is 80.782 kg\n"
       ]
      }
     ],
     "prompt_number": 46
    },
    {
     "cell_type": "markdown",
     "metadata": {
      "slideshow": {
       "slide_type": "subslide"
      }
     },
     "source": [
      "#Strings"
     ]
    },
    {
     "cell_type": "code",
     "collapsed": false,
     "input": [
      "#Splitting\n",
      "s = \"This,is,a,sentence\"\n",
      "s_list = s.split(\",\")\n",
      "print s_list"
     ],
     "language": "python",
     "metadata": {
      "slideshow": {
       "slide_type": "fragment"
      }
     },
     "outputs": [
      {
       "output_type": "stream",
       "stream": "stdout",
       "text": [
        "['This', 'is', 'a', 'sentence']\n"
       ]
      }
     ],
     "prompt_number": 47
    },
    {
     "cell_type": "code",
     "collapsed": false,
     "input": [
      "#joining a list of strings\n",
      "print \"_\".join(s_list)"
     ],
     "language": "python",
     "metadata": {
      "slideshow": {
       "slide_type": "fragment"
      }
     },
     "outputs": [
      {
       "output_type": "stream",
       "stream": "stdout",
       "text": [
        "This_is_a_sentence\n"
       ]
      }
     ],
     "prompt_number": 48
    },
    {
     "cell_type": "markdown",
     "metadata": {
      "slideshow": {
       "slide_type": "subslide"
      }
     },
     "source": [
      "#Strings"
     ]
    },
    {
     "cell_type": "code",
     "collapsed": false,
     "input": [
      "#replacing\n",
      "\"mama\".replace(\"m\", \"p\")"
     ],
     "language": "python",
     "metadata": {},
     "outputs": [
      {
       "metadata": {},
       "output_type": "pyout",
       "prompt_number": 49,
       "text": [
        "'papa'"
       ]
      }
     ],
     "prompt_number": 49
    },
    {
     "cell_type": "code",
     "collapsed": false,
     "input": [
      "#regular expressions module\n",
      "import re\n",
      "msg = \"Find 192, numbers 278: and -7 and do smth w 89\"\n",
      "groups = re.findall(r\"-?\\d+\", msg)\n",
      "print groups \n",
      "print [float(el) for el in groups] #convert strings to floats"
     ],
     "language": "python",
     "metadata": {
      "slideshow": {
       "slide_type": "fragment"
      }
     },
     "outputs": [
      {
       "output_type": "stream",
       "stream": "stdout",
       "text": [
        "['192', '278', '-7', '89']\n",
        "[192.0, 278.0, -7.0, 89.0]\n"
       ]
      }
     ],
     "prompt_number": 50
    },
    {
     "cell_type": "code",
     "collapsed": false,
     "input": [
      "#regular expressions module\n",
      "groups = re.findall(r\"-?\\d+/\\d+|-?\\d+\\.\\d+|-?\\d+\", \"Find 192.28940, -2/3 numbers 278: and -7 and do smth w 89\")\n",
      "print groups"
     ],
     "language": "python",
     "metadata": {
      "slideshow": {
       "slide_type": "skip"
      }
     },
     "outputs": [
      {
       "output_type": "stream",
       "stream": "stdout",
       "text": [
        "['192.28940', '-2/3', '278', '-7', '89']\n"
       ]
      }
     ],
     "prompt_number": 51
    },
    {
     "cell_type": "markdown",
     "metadata": {
      "slideshow": {
       "slide_type": "subslide"
      }
     },
     "source": [
      "# Dates"
     ]
    },
    {
     "cell_type": "code",
     "collapsed": false,
     "input": [
      "#What time is it\n",
      "from datetime import datetime, timedelta\n",
      "d = datetime.now(); print d"
     ],
     "language": "python",
     "metadata": {},
     "outputs": [
      {
       "output_type": "stream",
       "stream": "stdout",
       "text": [
        "2013-12-16 18:36:43.462294\n"
       ]
      }
     ],
     "prompt_number": 52
    },
    {
     "cell_type": "code",
     "collapsed": false,
     "input": [
      "#Can you give me hours and minutes, please\n",
      "d.strftime(\"%H:%M\"), d.strftime(\"%Hh%Mmin\")"
     ],
     "language": "python",
     "metadata": {
      "slideshow": {
       "slide_type": "fragment"
      }
     },
     "outputs": [
      {
       "metadata": {},
       "output_type": "pyout",
       "prompt_number": 53,
       "text": [
        "('18:36', '18h36min')"
       ]
      }
     ],
     "prompt_number": 53
    },
    {
     "cell_type": "markdown",
     "metadata": {
      "slideshow": {
       "slide_type": "subslide"
      }
     },
     "source": [
      "# Dates"
     ]
    },
    {
     "cell_type": "code",
     "collapsed": false,
     "input": [
      "#It is easy to generate a list of dates, with different intervals\n",
      "dt = timedelta(hours = 5)\n",
      "end_date = datetime.now()\n",
      "date_list = [end_date - i * dt for i in range(30)]\n",
      "date_list.sort()\n",
      "template = \"generated dates between:\\n\" + \\\n",
      "    \"{0:%Y-%m-%d %Hh} and {1:%Y-%m-%d %Hh}\"\n",
      "res = template.format(date_list[0], date_list[-1])\n",
      "print res"
     ],
     "language": "python",
     "metadata": {
      "slideshow": {
       "slide_type": "fragment"
      }
     },
     "outputs": [
      {
       "output_type": "stream",
       "stream": "stdout",
       "text": [
        "generated dates between:\n",
        "2013-12-10 17h and 2013-12-16 18h\n"
       ]
      }
     ],
     "prompt_number": 54
    },
    {
     "cell_type": "markdown",
     "metadata": {
      "slideshow": {
       "slide_type": "subslide"
      }
     },
     "source": [
      "Exercises: Operations with strings, dates and file system\n",
      "======\n",
      "\n",
      "* Get list of all items in the folders from your `LD_LIBRARY_PATH` environment variable\n",
      "\n",
      "\n",
      "* Write a function that finds all the numbers in a string using `re` module (Note: make sure real numbers are also accounted for. Optionally you can also account for the fractions like 2/3)\n",
      "\n",
      "\n",
      "* Calculate your age in weeks using `timedelta`\n",
      "\n",
      "\n",
      "* Figure out on which day of week you were born (see the `calendar` module), you can have fun by determining on which day of week you'll have your birthday in 2014."
     ]
    },
    {
     "cell_type": "markdown",
     "metadata": {
      "slideshow": {
       "slide_type": "slide"
      }
     },
     "source": [
      "NumPy\n",
      "========\n",
      "The library for fast manipulations with big arrays that fit into memory."
     ]
    },
    {
     "cell_type": "code",
     "collapsed": false,
     "input": [
      "import numpy as np\n",
      "#Creating a numpy array from list\n",
      "np_arr = np.asarray([1,23,4, 3.5,6,7,86, 18.9])\n",
      "print np_arr.shape, np_arr.min(), np_arr.max(), \\\n",
      "      np_arr.std(), np_arr.mean(), np_arr.sum()"
     ],
     "language": "python",
     "metadata": {
      "slideshow": {
       "slide_type": "-"
      }
     },
     "outputs": [
      {
       "output_type": "stream",
       "stream": "stdout",
       "text": [
        "(8,) 1.0 86.0 26.4726627864 18.675 149.4\n"
       ]
      }
     ],
     "prompt_number": 55
    },
    {
     "cell_type": "markdown",
     "metadata": {
      "slideshow": {
       "slide_type": "subslide"
      }
     },
     "source": [
      "Numpy\n",
      "====="
     ]
    },
    {
     "cell_type": "code",
     "collapsed": false,
     "input": [
      "#create prefilled arrays\n",
      "the_zeros = np.zeros((3,9))\n",
      "the_ones = np.ones((3,9))\n",
      "\n",
      "print the_zeros\n",
      "print 20 * \"-\"\n",
      "print the_ones"
     ],
     "language": "python",
     "metadata": {},
     "outputs": [
      {
       "output_type": "stream",
       "stream": "stdout",
       "text": [
        "[[ 0.  0.  0.  0.  0.  0.  0.  0.  0.]\n",
        " [ 0.  0.  0.  0.  0.  0.  0.  0.  0.]\n",
        " [ 0.  0.  0.  0.  0.  0.  0.  0.  0.]]\n",
        "--------------------\n",
        "[[ 1.  1.  1.  1.  1.  1.  1.  1.  1.]\n",
        " [ 1.  1.  1.  1.  1.  1.  1.  1.  1.]\n",
        " [ 1.  1.  1.  1.  1.  1.  1.  1.  1.]]\n"
       ]
      }
     ],
     "prompt_number": 56
    },
    {
     "cell_type": "markdown",
     "metadata": {
      "slideshow": {
       "slide_type": "subslide"
      }
     },
     "source": [
      "NumPy\n",
      "========"
     ]
    },
    {
     "cell_type": "code",
     "collapsed": false,
     "input": [
      "#Reshape\n",
      "np_arr.shape = (2,4)\n",
      "print np_arr"
     ],
     "language": "python",
     "metadata": {
      "slideshow": {
       "slide_type": "-"
      }
     },
     "outputs": [
      {
       "output_type": "stream",
       "stream": "stdout",
       "text": [
        "[[  1.   23.    4.    3.5]\n",
        " [  6.    7.   86.   18.9]]\n"
       ]
      }
     ],
     "prompt_number": 57
    },
    {
     "cell_type": "code",
     "collapsed": false,
     "input": [
      "#sum along a specified dimension, here \n",
      "print np_arr.sum(axis = 1)"
     ],
     "language": "python",
     "metadata": {
      "slideshow": {
       "slide_type": "fragment"
      }
     },
     "outputs": [
      {
       "output_type": "stream",
       "stream": "stdout",
       "text": [
        "[  31.5  117.9]\n"
       ]
      }
     ],
     "prompt_number": 58
    },
    {
     "cell_type": "markdown",
     "metadata": {
      "slideshow": {
       "slide_type": "subslide"
      }
     },
     "source": [
      "Numpy provides many vectorized functions to efficiently operate on arrays\n",
      "====="
     ]
    },
    {
     "cell_type": "code",
     "collapsed": false,
     "input": [
      "np.sin(np_arr).transpose()"
     ],
     "language": "python",
     "metadata": {},
     "outputs": [
      {
       "metadata": {},
       "output_type": "pyout",
       "prompt_number": 59,
       "text": [
        "array([[ 0.84147098, -0.2794155 ],\n",
        "       [-0.8462204 ,  0.6569866 ],\n",
        "       [-0.7568025 , -0.92345845],\n",
        "       [-0.35078323,  0.05042269]])"
       ]
      }
     ],
     "prompt_number": 59
    },
    {
     "cell_type": "code",
     "collapsed": false,
     "input": [
      "np.cross([1,0,0], [0,1,0])"
     ],
     "language": "python",
     "metadata": {
      "slideshow": {
       "slide_type": "fragment"
      }
     },
     "outputs": [
      {
       "metadata": {},
       "output_type": "pyout",
       "prompt_number": 60,
       "text": [
        "array([0, 0, 1])"
       ]
      }
     ],
     "prompt_number": 60
    },
    {
     "cell_type": "markdown",
     "metadata": {
      "slideshow": {
       "slide_type": "subslide"
      }
     },
     "source": [
      "Numpy: fancy indexing\n",
      "====="
     ]
    },
    {
     "cell_type": "code",
     "collapsed": false,
     "input": [
      "arr = np.random.randn(3,5)\n",
      "print \"Sum of positive numbers: \", arr[arr > 0].sum()\n",
      "\n",
      "print \"Sum over (-0.1 <= arr <= 0.1): \", \\\n",
      "       arr[(arr >= -0.1) & (arr <= 0.1)].sum()\n",
      "\n",
      "print \"Sum over (-0.1 > arr) or (arr > 0.1): \", \\\n",
      "       arr[(arr < -0.1) | (arr > 0.1)].sum()"
     ],
     "language": "python",
     "metadata": {},
     "outputs": [
      {
       "output_type": "stream",
       "stream": "stdout",
       "text": [
        "Sum of positive numbers:  6.47537541871\n",
        "Sum over (-0.1 <= arr <= 0.1):  -0.000789736027231\n",
        "Sum over (-0.1 > arr) or (arr > 0.1):  1.29198908287\n"
       ]
      }
     ],
     "prompt_number": 61
    },
    {
     "cell_type": "markdown",
     "metadata": {
      "slideshow": {
       "slide_type": "subslide"
      }
     },
     "source": [
      "Exercises: Numpy\n",
      "=====\n",
      "\n",
      "* Generate a 10 x 3 array of random numbers (in range \\[0,1\\]). For each row, pick the number closest to 0.5 ([source](http://scipy-lectures.github.io/intro/numpy/exercises.html#picture-manipulation-framing-lena)) *Hint:* use `np.argmin`.\n",
      "\n",
      "* Checkout numpy for MATLAB users transition [table]()."
     ]
    },
    {
     "cell_type": "code",
     "collapsed": false,
     "input": [
      "arr = np.random.randn(10,3)\n",
      "d = np.abs(arr - 0.5)\n",
      "\n",
      "print arr\n",
      "colinds = np.argmin(d, axis = 1)\n",
      "rowinds = range(arr.shape[0])\n",
      "arr[rowinds, colinds]"
     ],
     "language": "python",
     "metadata": {
      "slideshow": {
       "slide_type": "skip"
      }
     },
     "outputs": [
      {
       "output_type": "stream",
       "stream": "stdout",
       "text": [
        "[[ 2.11563758 -0.15946221 -0.12688905]\n",
        " [ 1.26426311  0.73649121  0.65669322]\n",
        " [ 0.31674893 -0.77674158 -0.7079766 ]\n",
        " [ 2.03197822 -2.38879127 -0.67475983]\n",
        " [ 0.0939176  -0.51546771  0.82471552]\n",
        " [ 0.94978476  0.02196749  1.10410124]\n",
        " [-0.46244295  1.77314617  0.47462761]\n",
        " [ 0.27105156  2.27293456 -1.52773447]\n",
        " [ 0.7073111  -1.401535   -0.35034186]\n",
        " [ 0.26708519  2.13515717 -0.47827535]]\n"
       ]
      },
      {
       "metadata": {},
       "output_type": "pyout",
       "prompt_number": 62,
       "text": [
        "array([-0.12688905,  0.65669322,  0.31674893, -0.67475983,  0.82471552,\n",
        "        0.94978476,  0.47462761,  0.27105156,  0.7073111 ,  0.26708519])"
       ]
      }
     ],
     "prompt_number": 62
    },
    {
     "cell_type": "markdown",
     "metadata": {
      "slideshow": {
       "slide_type": "subslide"
      }
     },
     "source": [
      "SciPy\n",
      "=======\n",
      "\n",
      "## [Scipy lectures](http://scipy-lectures.github.io/)"
     ]
    },
    {
     "cell_type": "markdown",
     "metadata": {
      "slideshow": {
       "slide_type": "subslide"
      }
     },
     "source": [
      "SciPy packages\n",
      "=======\n",
      "\n",
      "It contains many paackages useful for data analysis\n",
      "\n",
      "|Package| Purpose|\n",
      "|:-------:|:----------:|\n",
      "| scipy.cluster   | Vector quantization / Kmeans |\n",
      "| scipy.constants |  Physical and mathematical constants | \n",
      "| scipy.fftpack   | Fourier transform | \n",
      "| scipy.integrate|  Integration routines | \n",
      "| scipy.interpolate|  Interpolation | \n",
      "| scipy.io | Data input and output | \n",
      "| scipy.linalg|  Linear algebra routines | \n",
      "| scipy.ndimage|  n-dimensional image package | "
     ]
    },
    {
     "cell_type": "markdown",
     "metadata": {
      "slideshow": {
       "slide_type": "subslide"
      }
     },
     "source": [
      "SciPy packages (cont.)\n",
      "=======\n",
      "\n",
      "It contains many paackages useful for data analysis\n",
      "\n",
      "|Package| Purpose|\n",
      "|:-------:|:----------:|\n",
      "| scipy.odr |  Orthogonal distance regression | \n",
      "| scipy.optimize |  Optimization | \n",
      "| scipy.signal |  Signal processing | \n",
      "| scipy.sparse |  Sparse matrices | \n",
      "| scipy.spatial |  Spatial data structures and algorithms | \n",
      "| scipy.special |  Any special mathematical functions | \n",
      "| scipy.stats |  Statistics | \n"
     ]
    },
    {
     "cell_type": "markdown",
     "metadata": {
      "slideshow": {
       "slide_type": "subslide"
      }
     },
     "source": [
      "SciPy\n",
      "======="
     ]
    },
    {
     "cell_type": "code",
     "collapsed": false,
     "input": [
      "from scipy.stats import norm\n",
      "#generating random variable samples for different distributions\n",
      "x1 = norm.rvs(loc = 50, scale = 10, size=20000)\n",
      "x2 = norm.rvs(loc=5, scale = 20, size=20000)\n",
      "x3 = norm.rvs(loc=0, scale = 20, size=20000)\n",
      "print x1.mean(), x2.mean(), x3.mean()"
     ],
     "language": "python",
     "metadata": {
      "slideshow": {
       "slide_type": "-"
      }
     },
     "outputs": [
      {
       "output_type": "stream",
       "stream": "stdout",
       "text": [
        "50.0233746684 5.14366133087 -0.0611160282794\n"
       ]
      }
     ],
     "prompt_number": 63
    },
    {
     "cell_type": "markdown",
     "metadata": {
      "slideshow": {
       "slide_type": "subslide"
      }
     },
     "source": [
      "SciPy\n",
      "======="
     ]
    },
    {
     "cell_type": "code",
     "collapsed": false,
     "input": [
      "font_size = 20\n",
      "params = {\n",
      "        'xtick.labelsize': font_size,\n",
      "        'ytick.labelsize': font_size,\n",
      "}\n",
      "plt.rcParams.update(params) #set back font size to the default value"
     ],
     "language": "python",
     "metadata": {
      "slideshow": {
       "slide_type": "skip"
      }
     },
     "outputs": [],
     "prompt_number": 64
    },
    {
     "cell_type": "code",
     "collapsed": false,
     "input": [
      "fig, (ax1,ax2) = plt.subplots(1,2, sharey=True)\n",
      "fig.set_size_inches((10,3))\n",
      "xlocator = MaxNLocator(nbins = 5)\n",
      "\n",
      "rv = np.linspace(-2, 2, 1000)\n",
      "ax1.plot(rv, norm.pdf(rv, loc = 0, scale = 0.5), lw = 3)\n",
      "ax1.xaxis.set_major_locator(xlocator)\n",
      "\n",
      "ax2.plot(rv, norm.cdf(rv, loc = 0, scale = 0.5), lw = 3)\n",
      "ax2.xaxis.set_major_locator(xlocator)"
     ],
     "language": "python",
     "metadata": {
      "slideshow": {
       "slide_type": "-"
      }
     },
     "outputs": [
      {
       "metadata": {},
       "output_type": "display_data",
       "png": "[encoded data removed]",
       "text": [
        "<matplotlib.figure.Figure at 0x10c165350>"
       ]
      }
     ],
     "prompt_number": 65
    },
    {
     "cell_type": "markdown",
     "metadata": {
      "slideshow": {
       "slide_type": "subslide"
      }
     },
     "source": [
      "Exercises: SciPy\n",
      "=======\n",
      "\n",
      "* Calculate the integral over the cube D=\\[0,1\\] x \\[0, 1\\] x \\[0,1\\] ([source](http://scipy-lectures.github.io/intro/numpy/exercises.html)):\n",
      "\n",
      "    $$\n",
      "    \\int\\int\\limits_{D}\\int \\left(x^y -z \\right) dD\n",
      "    $$\n",
      "\n",
      "    *Hint: checkout* `scipy.integrate.tplquad`."
     ]
    },
    {
     "cell_type": "code",
     "collapsed": false,
     "input": [
      "from scipy import integrate\n",
      "\n",
      "def the_func_to_integr(x,y,z):\n",
      "    return x**y - z\n",
      "\n",
      "integrate.tplquad(the_func_to_integr, 0,1, lambda x: 0, lambda x: 1, lambda x,y: 0, lambda x,y: 1)\n"
     ],
     "language": "python",
     "metadata": {
      "slideshow": {
       "slide_type": "skip"
      }
     },
     "outputs": [
      {
       "output_type": "stream",
       "stream": "stderr",
       "text": [
        "/opt/local/Library/Frameworks/Python.framework/Versions/2.7/lib/python2.7/site-packages/scipy/integrate/quadpack.py:295: UserWarning: The integral is probably divergent, or slowly convergent.\n",
        "  warnings.warn(msg)\n"
       ]
      },
      {
       "metadata": {},
       "output_type": "pyout",
       "prompt_number": 66,
       "text": [
        "(0.1931471805627689, 3.19299299527321e-15)"
       ]
      }
     ],
     "prompt_number": 66
    },
    {
     "cell_type": "markdown",
     "metadata": {
      "slideshow": {
       "slide_type": "slide"
      }
     },
     "source": [
      "Netcdf4-python\n",
      "=================\n",
      "##The python module that for reading and writing NetCDF files in python, created by *Jeff Whitaker*. \n",
      "##Requires installation of C libraries:\n",
      "\n",
      "* **NetCDF4**\n",
      "\n",
      "\n",
      "* **HDF5**\n",
      "\n",
      "\n"
     ]
    },
    {
     "cell_type": "markdown",
     "metadata": {
      "slideshow": {
       "slide_type": "subslide"
      }
     },
     "source": [
      "#Netcd4-python\n",
      "\n",
      "## Below is the example of creating a netcdf file using the **netcdf4-python** library."
     ]
    },
    {
     "cell_type": "code",
     "collapsed": false,
     "input": [
      "from netCDF4 import Dataset\n",
      "##Create netcdf file\n",
      "## Create a file with 3 dimensions time, x, y and 2 variables field1 and field2\n",
      "file_name = \"test.nc\"\n",
      "if os.path.isfile(file_name):\n",
      "    os.remove(file_name)\n",
      "    \n",
      "#open the file\n",
      "ds = Dataset(file_name, mode=\"w\")\n",
      "ds.createDimension(\"x\", 20)\n",
      "ds.createDimension(\"y\", 20)\n",
      "ds.createDimension(\"time\", None)\n",
      "var1 = ds.createVariable(\"field1\", \"f4\", (\"time\", \"x\", \"y\"))\n",
      "var2 = ds.createVariable(\"field2\", \"f4\", (\"time\", \"x\", \"y\"))"
     ],
     "language": "python",
     "metadata": {
      "slideshow": {
       "slide_type": "-"
      }
     },
     "outputs": [],
     "prompt_number": 67
    },
    {
     "cell_type": "markdown",
     "metadata": {
      "slideshow": {
       "slide_type": "subslide"
      }
     },
     "source": [
      "#Write actual data to the file"
     ]
    },
    {
     "cell_type": "code",
     "collapsed": false,
     "input": [
      "#generate random data and tell to the program where it should go\n",
      "data = np.random.randn(10, 20, 20)\n",
      "var1[:] = data\n",
      "var2[:] = 10 * data + 10\n",
      "#actually write data to the disk\n",
      "ds.close();"
     ],
     "language": "python",
     "metadata": {},
     "outputs": [],
     "prompt_number": 68
    },
    {
     "cell_type": "markdown",
     "metadata": {
      "slideshow": {
       "slide_type": "subslide"
      }
     },
     "source": [
      "Netcdf4-python: reading a netcdf file\n",
      "=============="
     ]
    },
    {
     "cell_type": "code",
     "collapsed": false,
     "input": [
      "from netCDF4 import Dataset\n",
      "\n",
      "ds = Dataset(\"test.nc\")\n",
      "#now data is a netcdf4 Variable object, which contain only links to the data\n",
      "data = ds.variables[\"field1\"]\n",
      "#now we ask to really read the data into the memory\n",
      "all_data = data[:]\n",
      "#print all_data.shape\n",
      "data1 = data[1,:,:]\n",
      "data2 = ds.variables[\"field2\"][2,:,:]\n",
      "print data1.shape, all_data.shape, all_data.mean(axis = 0).mean(axis = 0).mean(axis = 0)"
     ],
     "language": "python",
     "metadata": {
      "slideshow": {
       "slide_type": "-"
      }
     },
     "outputs": [
      {
       "output_type": "stream",
       "stream": "stdout",
       "text": [
        "(20, 20) (10, 20, 20) 0.00781443\n"
       ]
      }
     ],
     "prompt_number": 69
    },
    {
     "cell_type": "markdown",
     "metadata": {
      "slideshow": {
       "slide_type": "subslide"
      }
     },
     "source": [
      "Exercises: Netcdf4-python\n",
      "======"
     ]
    },
    {
     "cell_type": "markdown",
     "metadata": {},
     "source": [
      "* Demo reading from rpn and saving to netcdf.\n",
      "\n",
      "    The rpn file is /skynet1_rech3/huziy/Converters/NetCDF_converter/monthly_mean_qc_0.1_1979_05.rpn\n",
      "    \n",
      "    The variable is PR"
     ]
    },
    {
     "cell_type": "markdown",
     "metadata": {
      "slideshow": {
       "slide_type": "slide"
      }
     },
     "source": [
      "Matplotlib\n",
      "============\n",
      "\n",
      "##The module for creating publication quality plots (mainly 2D), created by *John Hunter*.\n",
      "\n",
      "##[Matplotlib gallery](http://matplotlib.org/gallery.html)\n",
      "\n",
      "\n",
      "An alternative is PyNGL - a wrapper around NCL developed at NCAR.\n",
      "\n"
     ]
    },
    {
     "cell_type": "markdown",
     "metadata": {
      "slideshow": {
       "slide_type": "subslide"
      }
     },
     "source": [
      "Matplotlib\n",
      "=====\n",
      "Example taken from the matplotlib library and modified.\n",
      "\n",
      "Read some timeseries into memory and import external dependencies:"
     ]
    },
    {
     "cell_type": "code",
     "collapsed": false,
     "input": [
      "import matplotlib.pyplot as plt\n",
      "from datetime import datetime\n",
      "import matplotlib.cbook as cbook\n",
      "from matplotlib.dates import strpdate2num\n",
      "from matplotlib.dates import DateFormatter\n",
      "from matplotlib.dates import DayLocator, MonthLocator\n",
      "\n",
      "datafile = cbook.get_sample_data('msft.csv', asfileobj=False)\n",
      "dates, closes = np.loadtxt(datafile, delimiter=',',\n",
      "    converters={0: strpdate2num('%d-%b-%y')},\n",
      "    skiprows=1, usecols=(0,2), unpack=True)"
     ],
     "language": "python",
     "metadata": {},
     "outputs": [],
     "prompt_number": 70
    },
    {
     "cell_type": "markdown",
     "metadata": {
      "slideshow": {
       "slide_type": "subslide"
      }
     },
     "source": [
      "Plot the timeseries\n",
      "==================="
     ]
    },
    {
     "cell_type": "code",
     "collapsed": false,
     "input": [
      "fig = plt.figure()\n",
      "ax = fig.add_subplot(111)\n",
      "ax.plot(dates, closes, lw = 2);"
     ],
     "language": "python",
     "metadata": {
      "slideshow": {
       "slide_type": "-"
      }
     },
     "outputs": [
      {
       "metadata": {},
       "output_type": "display_data",
       "png": "[encoded data removed]",
       "text": [
        "<matplotlib.figure.Figure at 0x1053c0f10>"
       ]
      }
     ],
     "prompt_number": 71
    },
    {
     "cell_type": "markdown",
     "metadata": {
      "slideshow": {
       "slide_type": "subslide"
      }
     },
     "source": [
      "Format the x-axis properly\n",
      "===="
     ]
    },
    {
     "cell_type": "code",
     "collapsed": false,
     "input": [
      "fig = plt.figure()\n",
      "ax = fig.add_subplot(111)\n",
      "ax.plot(dates, closes, lw = 2)\n",
      "\n",
      "ax.xaxis.set_major_formatter(DateFormatter(\"%b\\n%Y\"))\n",
      "ax.xaxis.set_minor_locator(DayLocator())\n",
      "ax.xaxis.set_major_locator(MonthLocator())"
     ],
     "language": "python",
     "metadata": {},
     "outputs": [
      {
       "metadata": {},
       "output_type": "display_data",
       "png": "[encoded data removed]",
       "text": [
        "<matplotlib.figure.Figure at 0x10c58e1d0>"
       ]
      }
     ],
     "prompt_number": 72
    },
    {
     "cell_type": "markdown",
     "metadata": {
      "slideshow": {
       "slide_type": "subslide"
      }
     },
     "source": [
      "Modify the way the graph looks\n",
      "====="
     ]
    },
    {
     "cell_type": "code",
     "collapsed": false,
     "input": [
      "def modify_graph(ax):\n",
      "    ax.xaxis.set_major_formatter(DateFormatter(\"%b\"))\n",
      "    ax.xaxis.set_minor_locator(DayLocator())\n",
      "    ax.xaxis.set_major_locator(MonthLocator())\n",
      "    ax.yaxis.set_major_locator(MaxNLocator(nbins=5))\n",
      "    ax.grid()\n",
      "    ax.set_ylim([25.5, 30]); ax.set_xlim([dates[-1], dates[0]]);"
     ],
     "language": "python",
     "metadata": {},
     "outputs": [],
     "prompt_number": 73
    },
    {
     "cell_type": "markdown",
     "metadata": {
      "slideshow": {
       "slide_type": "subslide"
      }
     },
     "source": [
      "Modify the way the graph looks\n",
      "====="
     ]
    },
    {
     "cell_type": "code",
     "collapsed": false,
     "input": [
      "fig = plt.figure()\n",
      "ax = fig.add_subplot(111)\n",
      "ax.plot(dates, closes, \"gray\", lw = 3)\n",
      "ax.fill_between(dates, closes, y2 = 25.5, color =\"gray\", alpha=0.3);\n",
      "modify_graph(ax)"
     ],
     "language": "python",
     "metadata": {},
     "outputs": [
      {
       "metadata": {},
       "output_type": "display_data",
       "png": "[encoded data removed]",
       "text": [
        "<matplotlib.figure.Figure at 0x1098bc310>"
       ]
      }
     ],
     "prompt_number": 74
    },
    {
     "cell_type": "markdown",
     "metadata": {
      "slideshow": {
       "slide_type": "subslide"
      }
     },
     "source": [
      "Let us draw the data we just saved to the netcdf file.\n",
      "====\n",
      "\n",
      "Do necessary imports and create configuration objects."
     ]
    },
    {
     "cell_type": "code",
     "collapsed": false,
     "input": [
      "import matplotlib.pyplot as plt\n",
      "from matplotlib.colors import BoundaryNorm\n",
      "from matplotlib import cm\n",
      "\n",
      "levels = [-30,-10, -3,-1,0,1,3,10,30,40]\n",
      "bn = BoundaryNorm(levels, len(levels) - 1)\n",
      "cmap = cm.get_cmap(\"jet\", len(levels) - 1);"
     ],
     "language": "python",
     "metadata": {},
     "outputs": [],
     "prompt_number": 76
    },
    {
     "cell_type": "markdown",
     "metadata": {
      "slideshow": {
       "slide_type": "subslide"
      }
     },
     "source": [
      "Matplotlib: actual plotting\n",
      "============"
     ]
    },
    {
     "cell_type": "code",
     "collapsed": false,
     "input": [
      "font_size = 20\n",
      "params = {\n",
      "        'xtick.labelsize': font_size,\n",
      "        'ytick.labelsize': font_size,\n",
      "}\n",
      "plt.rcParams.update(params) #set back font size to the default value\n",
      "\n",
      "def apply_some_formatting(axes, im):\n",
      "    axes[1].set_yticks([]); \n",
      "    axes[2].set_aspect(20); \n",
      "    cax = axes[2]; \n",
      "    cax.set_anchor(\"W\")\n",
      "    cb = plt.colorbar(im2, cax = axes[2]);"
     ],
     "language": "python",
     "metadata": {
      "slideshow": {
       "slide_type": "skip"
      }
     },
     "outputs": [],
     "prompt_number": 77
    },
    {
     "cell_type": "code",
     "collapsed": false,
     "input": [
      "fig, axes = plt.subplots(nrows=1, ncols=3)\n",
      "fig.set_size_inches(20,4)\n",
      "im1 = axes[0].contourf(data1.transpose(), levels = levels, \n",
      "                       norm = bn, cmap = cmap)\n",
      "\n",
      "im2 = axes[1].contourf(data2.transpose(), levels = levels, \n",
      "                       norm = bn, cmap = cmap)\n",
      "apply_some_formatting(axes, im2)"
     ],
     "language": "python",
     "metadata": {
      "slideshow": {
       "slide_type": "-"
      }
     },
     "outputs": [
      {
       "metadata": {},
       "output_type": "display_data",
       "png": "[encoded data removed]",
       "text": [
        "<matplotlib.figure.Figure at 0x10c82ab90>"
       ]
      }
     ],
     "prompt_number": 79
    },
    {
     "cell_type": "code",
     "collapsed": false,
     "input": [
      "font_size = plt.rcParamsDefault['xtick.labelsize']\n",
      "params = {\n",
      "        'xtick.labelsize': font_size,\n",
      "        'ytick.labelsize': font_size,\n",
      "}\n",
      "plt.rcParams.update(params) #set back font size to the default value"
     ],
     "language": "python",
     "metadata": {
      "slideshow": {
       "slide_type": "skip"
      }
     },
     "outputs": [],
     "prompt_number": 247
    },
    {
     "cell_type": "markdown",
     "metadata": {
      "slideshow": {
       "slide_type": "subslide"
      }
     },
     "source": [
      "Execises: Matplotlib\n",
      "=============\n",
      "\n",
      "* Reproduce the panel plot given in the example. (Try different colormaps)\n",
      "\n",
      "* Plot a timeseries of daily random data. (Show only month names as Jan, Feb, .. along the x-axis, make sure they do not overlap)"
     ]
    },
    {
     "cell_type": "markdown",
     "metadata": {
      "slideshow": {
       "slide_type": "slide"
      }
     },
     "source": [
      "Pandas\n",
      "====\n",
      "\n",
      "* ## Initially designed to process and analyse long timeseries\n",
      "\n",
      "\n",
      "* ## Author: *Wes McKinney*\n",
      "\n",
      "* ## Home page: [pandas.pydata.org](http://pandas.pydata.org/) "
     ]
    },
    {
     "cell_type": "markdown",
     "metadata": {
      "slideshow": {
       "slide_type": "subslide"
      }
     },
     "source": [
      "Load the same timeseries as for matplotlib example\n",
      "======"
     ]
    },
    {
     "cell_type": "code",
     "collapsed": false,
     "input": [
      "import pandas as pd\n",
      "datafile = cbook.get_sample_data('msft.csv', asfileobj=False)\n",
      "df = pd.DataFrame.from_csv(datafile)\n",
      "df.head(3)"
     ],
     "language": "python",
     "metadata": {
      "slideshow": {
       "slide_type": "-"
      }
     },
     "outputs": [
      {
       "html": [
        "<div style=\"max-height:1000px;max-width:1500px;overflow:auto;\">\n",
        "<table border=\"1\" class=\"dataframe\">\n",
        "  <thead>\n",
        "    <tr style=\"text-align: right;\">\n",
        "      <th></th>\n",
        "      <th>Open</th>\n",
        "      <th>High</th>\n",
        "      <th>Low</th>\n",
        "      <th>Close</th>\n",
        "      <th>Volume</th>\n",
        "      <th>Adj. Close*</th>\n",
        "    </tr>\n",
        "    <tr>\n",
        "      <th>Date</th>\n",
        "      <th></th>\n",
        "      <th></th>\n",
        "      <th></th>\n",
        "      <th></th>\n",
        "      <th></th>\n",
        "      <th></th>\n",
        "    </tr>\n",
        "  </thead>\n",
        "  <tbody>\n",
        "    <tr>\n",
        "      <th>2003-09-19</th>\n",
        "      <td> 29.76</td>\n",
        "      <td> 29.97</td>\n",
        "      <td> 29.52</td>\n",
        "      <td> 29.96</td>\n",
        "      <td> 92433800</td>\n",
        "      <td> 29.79</td>\n",
        "    </tr>\n",
        "    <tr>\n",
        "      <th>2003-09-18</th>\n",
        "      <td> 28.49</td>\n",
        "      <td> 29.51</td>\n",
        "      <td> 28.42</td>\n",
        "      <td> 29.50</td>\n",
        "      <td> 67268096</td>\n",
        "      <td> 29.34</td>\n",
        "    </tr>\n",
        "    <tr>\n",
        "      <th>2003-09-17</th>\n",
        "      <td> 28.76</td>\n",
        "      <td> 28.95</td>\n",
        "      <td> 28.47</td>\n",
        "      <td> 28.50</td>\n",
        "      <td> 47221600</td>\n",
        "      <td> 28.34</td>\n",
        "    </tr>\n",
        "  </tbody>\n",
        "</table>\n",
        "</div>"
       ],
       "metadata": {},
       "output_type": "pyout",
       "prompt_number": 81,
       "text": [
        "             Open   High    Low  Close    Volume  Adj. Close*\n",
        "Date                                                         \n",
        "2003-09-19  29.76  29.97  29.52  29.96  92433800        29.79\n",
        "2003-09-18  28.49  29.51  28.42  29.50  67268096        29.34\n",
        "2003-09-17  28.76  28.95  28.47  28.50  47221600        28.34"
       ]
      }
     ],
     "prompt_number": 81
    },
    {
     "cell_type": "markdown",
     "metadata": {
      "slideshow": {
       "slide_type": "subslide"
      }
     },
     "source": [
      "Select the closes column\n",
      "====== "
     ]
    },
    {
     "cell_type": "code",
     "collapsed": false,
     "input": [
      "closes_col_sorted = df.Close.sort_index()\n",
      "closes_col_sorted.plot(lw = 2);"
     ],
     "language": "python",
     "metadata": {},
     "outputs": [
      {
       "metadata": {},
       "output_type": "display_data",
       "png": "[encoded data removed]",
       "text": [
        "<matplotlib.figure.Figure at 0x1099b8990>"
       ]
      }
     ],
     "prompt_number": 82
    },
    {
     "cell_type": "markdown",
     "metadata": {
      "slideshow": {
       "slide_type": "subslide"
      }
     },
     "source": [
      "Group by month and plot monthly means\n",
      "====== "
     ]
    },
    {
     "cell_type": "code",
     "collapsed": false,
     "input": [
      "df_month_mean = df.groupby(by = lambda d: d.month).mean()\n",
      "df_month_mean.High.plot(label= \"High\", lw = 3);\n",
      "df_month_mean.Low.plot(label = \"Low\", lw = 3);\n",
      "plt.legend(loc = 4);"
     ],
     "language": "python",
     "metadata": {},
     "outputs": [
      {
       "metadata": {},
       "output_type": "display_data",
       "png": "[encoded data removed]",
       "text": [
        "<matplotlib.figure.Figure at 0x1099a90d0>"
       ]
      }
     ],
     "prompt_number": 83
    },
    {
     "cell_type": "markdown",
     "metadata": {
      "slideshow": {
       "slide_type": "subslide"
      }
     },
     "source": [
      "It is easy to resample and do a rolling mean\n",
      "====== "
     ]
    },
    {
     "cell_type": "code",
     "collapsed": false,
     "input": [
      "resampled_closes = closes_col_sorted.resample(\"5D\", how=[np.min, np.max, np.median])\n",
      "ax = pd.rolling_mean(resampled_closes, 4, freq = \"5D\")[3:].plot(lw = 2, figheight = 3);"
     ],
     "language": "python",
     "metadata": {},
     "outputs": [
      {
       "ename": "TypeError",
       "evalue": "There is no line property \"figheight\"",
       "output_type": "pyerr",
       "traceback": [
        "\u001b[0;31m---------------------------------------------------------------------------\u001b[0m\n\u001b[0;31mTypeError\u001b[0m                                 Traceback (most recent call last)",
        "\u001b[0;32m<ipython-input-84-0ee897f53f34>\u001b[0m in \u001b[0;36m<module>\u001b[0;34m()\u001b[0m\n\u001b[1;32m      1\u001b[0m \u001b[0mresampled_closes\u001b[0m \u001b[0;34m=\u001b[0m \u001b[0mcloses_col_sorted\u001b[0m\u001b[0;34m.\u001b[0m\u001b[0mresample\u001b[0m\u001b[0;34m(\u001b[0m\u001b[0;34m\"5D\"\u001b[0m\u001b[0;34m,\u001b[0m \u001b[0mhow\u001b[0m\u001b[0;34m=\u001b[0m\u001b[0;34m[\u001b[0m\u001b[0mnp\u001b[0m\u001b[0;34m.\u001b[0m\u001b[0mmin\u001b[0m\u001b[0;34m,\u001b[0m \u001b[0mnp\u001b[0m\u001b[0;34m.\u001b[0m\u001b[0mmax\u001b[0m\u001b[0;34m,\u001b[0m \u001b[0mnp\u001b[0m\u001b[0;34m.\u001b[0m\u001b[0mmedian\u001b[0m\u001b[0;34m]\u001b[0m\u001b[0;34m)\u001b[0m\u001b[0;34m\u001b[0m\u001b[0m\n\u001b[0;32m----> 2\u001b[0;31m \u001b[0max\u001b[0m \u001b[0;34m=\u001b[0m \u001b[0mpd\u001b[0m\u001b[0;34m.\u001b[0m\u001b[0mrolling_mean\u001b[0m\u001b[0;34m(\u001b[0m\u001b[0mresampled_closes\u001b[0m\u001b[0;34m,\u001b[0m \u001b[0;36m4\u001b[0m\u001b[0;34m,\u001b[0m \u001b[0mfreq\u001b[0m \u001b[0;34m=\u001b[0m \u001b[0;34m\"5D\"\u001b[0m\u001b[0;34m)\u001b[0m\u001b[0;34m[\u001b[0m\u001b[0;36m3\u001b[0m\u001b[0;34m:\u001b[0m\u001b[0;34m]\u001b[0m\u001b[0;34m.\u001b[0m\u001b[0mplot\u001b[0m\u001b[0;34m(\u001b[0m\u001b[0mlw\u001b[0m \u001b[0;34m=\u001b[0m \u001b[0;36m2\u001b[0m\u001b[0;34m,\u001b[0m \u001b[0mfigheight\u001b[0m \u001b[0;34m=\u001b[0m \u001b[0;36m3\u001b[0m\u001b[0;34m)\u001b[0m\u001b[0;34m;\u001b[0m\u001b[0;34m\u001b[0m\u001b[0m\n\u001b[0m",
        "\u001b[0;32m/opt/local/Library/Frameworks/Python.framework/Versions/2.7/lib/python2.7/site-packages/pandas/tools/plotting.pyc\u001b[0m in \u001b[0;36mplot_frame\u001b[0;34m(frame, x, y, subplots, sharex, sharey, use_index, figsize, grid, legend, rot, ax, style, title, xlim, ylim, logx, logy, xticks, yticks, kind, sort_columns, fontsize, secondary_y, **kwds)\u001b[0m\n\u001b[1;32m   1634\u001b[0m                      \u001b[0mlogy\u001b[0m\u001b[0;34m=\u001b[0m\u001b[0mlogy\u001b[0m\u001b[0;34m,\u001b[0m \u001b[0msort_columns\u001b[0m\u001b[0;34m=\u001b[0m\u001b[0msort_columns\u001b[0m\u001b[0;34m,\u001b[0m\u001b[0;34m\u001b[0m\u001b[0m\n\u001b[1;32m   1635\u001b[0m                      secondary_y=secondary_y, **kwds)\n\u001b[0;32m-> 1636\u001b[0;31m     \u001b[0mplot_obj\u001b[0m\u001b[0;34m.\u001b[0m\u001b[0mgenerate\u001b[0m\u001b[0;34m(\u001b[0m\u001b[0;34m)\u001b[0m\u001b[0;34m\u001b[0m\u001b[0m\n\u001b[0m\u001b[1;32m   1637\u001b[0m     \u001b[0mplot_obj\u001b[0m\u001b[0;34m.\u001b[0m\u001b[0mdraw\u001b[0m\u001b[0;34m(\u001b[0m\u001b[0;34m)\u001b[0m\u001b[0;34m\u001b[0m\u001b[0m\n\u001b[1;32m   1638\u001b[0m     \u001b[0;32mif\u001b[0m \u001b[0msubplots\u001b[0m\u001b[0;34m:\u001b[0m\u001b[0;34m\u001b[0m\u001b[0m\n",
        "\u001b[0;32m/opt/local/Library/Frameworks/Python.framework/Versions/2.7/lib/python2.7/site-packages/pandas/tools/plotting.pyc\u001b[0m in \u001b[0;36mgenerate\u001b[0;34m(self)\u001b[0m\n\u001b[1;32m    854\u001b[0m         \u001b[0mself\u001b[0m\u001b[0;34m.\u001b[0m\u001b[0m_compute_plot_data\u001b[0m\u001b[0;34m(\u001b[0m\u001b[0;34m)\u001b[0m\u001b[0;34m\u001b[0m\u001b[0m\n\u001b[1;32m    855\u001b[0m         \u001b[0mself\u001b[0m\u001b[0;34m.\u001b[0m\u001b[0m_setup_subplots\u001b[0m\u001b[0;34m(\u001b[0m\u001b[0;34m)\u001b[0m\u001b[0;34m\u001b[0m\u001b[0m\n\u001b[0;32m--> 856\u001b[0;31m         \u001b[0mself\u001b[0m\u001b[0;34m.\u001b[0m\u001b[0m_make_plot\u001b[0m\u001b[0;34m(\u001b[0m\u001b[0;34m)\u001b[0m\u001b[0;34m\u001b[0m\u001b[0m\n\u001b[0m\u001b[1;32m    857\u001b[0m         \u001b[0mself\u001b[0m\u001b[0;34m.\u001b[0m\u001b[0m_post_plot_logic\u001b[0m\u001b[0;34m(\u001b[0m\u001b[0;34m)\u001b[0m\u001b[0;34m\u001b[0m\u001b[0m\n\u001b[1;32m    858\u001b[0m         \u001b[0mself\u001b[0m\u001b[0;34m.\u001b[0m\u001b[0m_adorn_subplots\u001b[0m\u001b[0;34m(\u001b[0m\u001b[0;34m)\u001b[0m\u001b[0;34m\u001b[0m\u001b[0m\n",
        "\u001b[0;32m/opt/local/Library/Frameworks/Python.framework/Versions/2.7/lib/python2.7/site-packages/pandas/tools/plotting.pyc\u001b[0m in \u001b[0;36m_make_plot\u001b[0;34m(self)\u001b[0m\n\u001b[1;32m   1238\u001b[0m         \u001b[0;32mif\u001b[0m \u001b[0;32mnot\u001b[0m \u001b[0mself\u001b[0m\u001b[0;34m.\u001b[0m\u001b[0mx_compat\u001b[0m \u001b[0;32mand\u001b[0m \u001b[0mself\u001b[0m\u001b[0;34m.\u001b[0m\u001b[0muse_index\u001b[0m \u001b[0;32mand\u001b[0m \u001b[0mself\u001b[0m\u001b[0;34m.\u001b[0m\u001b[0m_use_dynamic_x\u001b[0m\u001b[0;34m(\u001b[0m\u001b[0;34m)\u001b[0m\u001b[0;34m:\u001b[0m\u001b[0;34m\u001b[0m\u001b[0m\n\u001b[1;32m   1239\u001b[0m             \u001b[0mdata\u001b[0m \u001b[0;34m=\u001b[0m \u001b[0mself\u001b[0m\u001b[0;34m.\u001b[0m\u001b[0m_maybe_convert_index\u001b[0m\u001b[0;34m(\u001b[0m\u001b[0mself\u001b[0m\u001b[0;34m.\u001b[0m\u001b[0mdata\u001b[0m\u001b[0;34m)\u001b[0m\u001b[0;34m\u001b[0m\u001b[0m\n\u001b[0;32m-> 1240\u001b[0;31m             \u001b[0mself\u001b[0m\u001b[0;34m.\u001b[0m\u001b[0m_make_ts_plot\u001b[0m\u001b[0;34m(\u001b[0m\u001b[0mdata\u001b[0m\u001b[0;34m,\u001b[0m \u001b[0;34m**\u001b[0m\u001b[0mself\u001b[0m\u001b[0;34m.\u001b[0m\u001b[0mkwds\u001b[0m\u001b[0;34m)\u001b[0m\u001b[0;34m\u001b[0m\u001b[0m\n\u001b[0m\u001b[1;32m   1241\u001b[0m         \u001b[0;32melse\u001b[0m\u001b[0;34m:\u001b[0m\u001b[0;34m\u001b[0m\u001b[0m\n\u001b[1;32m   1242\u001b[0m             \u001b[0mlines\u001b[0m \u001b[0;34m=\u001b[0m \u001b[0;34m[\u001b[0m\u001b[0;34m]\u001b[0m\u001b[0;34m\u001b[0m\u001b[0m\n",
        "\u001b[0;32m/opt/local/Library/Frameworks/Python.framework/Versions/2.7/lib/python2.7/site-packages/pandas/tools/plotting.pyc\u001b[0m in \u001b[0;36m_make_ts_plot\u001b[0;34m(self, data, **kwargs)\u001b[0m\n\u001b[1;32m   1319\u001b[0m                 \u001b[0mself\u001b[0m\u001b[0;34m.\u001b[0m\u001b[0m_maybe_add_color\u001b[0m\u001b[0;34m(\u001b[0m\u001b[0mcolors\u001b[0m\u001b[0;34m,\u001b[0m \u001b[0mkwds\u001b[0m\u001b[0;34m,\u001b[0m \u001b[0mstyle\u001b[0m\u001b[0;34m,\u001b[0m \u001b[0mi\u001b[0m\u001b[0;34m)\u001b[0m\u001b[0;34m\u001b[0m\u001b[0m\n\u001b[1;32m   1320\u001b[0m \u001b[0;34m\u001b[0m\u001b[0m\n\u001b[0;32m-> 1321\u001b[0;31m                 \u001b[0m_plot\u001b[0m\u001b[0;34m(\u001b[0m\u001b[0mdata\u001b[0m\u001b[0;34m[\u001b[0m\u001b[0mcol\u001b[0m\u001b[0;34m]\u001b[0m\u001b[0;34m,\u001b[0m \u001b[0mi\u001b[0m\u001b[0;34m,\u001b[0m \u001b[0max\u001b[0m\u001b[0;34m,\u001b[0m \u001b[0mlabel\u001b[0m\u001b[0;34m,\u001b[0m \u001b[0mstyle\u001b[0m\u001b[0;34m,\u001b[0m \u001b[0;34m**\u001b[0m\u001b[0mkwds\u001b[0m\u001b[0;34m)\u001b[0m\u001b[0;34m\u001b[0m\u001b[0m\n\u001b[0m\u001b[1;32m   1322\u001b[0m \u001b[0;34m\u001b[0m\u001b[0m\n\u001b[1;32m   1323\u001b[0m         \u001b[0mself\u001b[0m\u001b[0;34m.\u001b[0m\u001b[0m_make_legend\u001b[0m\u001b[0;34m(\u001b[0m\u001b[0mlines\u001b[0m\u001b[0;34m,\u001b[0m \u001b[0mlabels\u001b[0m\u001b[0;34m)\u001b[0m\u001b[0;34m\u001b[0m\u001b[0m\n",
        "\u001b[0;32m/opt/local/Library/Frameworks/Python.framework/Versions/2.7/lib/python2.7/site-packages/pandas/tools/plotting.pyc\u001b[0m in \u001b[0;36m_plot\u001b[0;34m(data, col_num, ax, label, style, **kwds)\u001b[0m\n\u001b[1;32m   1293\u001b[0m         \u001b[0;32mdef\u001b[0m \u001b[0m_plot\u001b[0m\u001b[0;34m(\u001b[0m\u001b[0mdata\u001b[0m\u001b[0;34m,\u001b[0m \u001b[0mcol_num\u001b[0m\u001b[0;34m,\u001b[0m \u001b[0max\u001b[0m\u001b[0;34m,\u001b[0m \u001b[0mlabel\u001b[0m\u001b[0;34m,\u001b[0m \u001b[0mstyle\u001b[0m\u001b[0;34m,\u001b[0m \u001b[0;34m**\u001b[0m\u001b[0mkwds\u001b[0m\u001b[0;34m)\u001b[0m\u001b[0;34m:\u001b[0m\u001b[0;34m\u001b[0m\u001b[0m\n\u001b[1;32m   1294\u001b[0m             newlines = tsplot(data, plotf, ax=ax, label=label,\n\u001b[0;32m-> 1295\u001b[0;31m                                 style=style, **kwds)\n\u001b[0m\u001b[1;32m   1296\u001b[0m             \u001b[0max\u001b[0m\u001b[0;34m.\u001b[0m\u001b[0mgrid\u001b[0m\u001b[0;34m(\u001b[0m\u001b[0mself\u001b[0m\u001b[0;34m.\u001b[0m\u001b[0mgrid\u001b[0m\u001b[0;34m)\u001b[0m\u001b[0;34m\u001b[0m\u001b[0m\n\u001b[1;32m   1297\u001b[0m             \u001b[0mlines\u001b[0m\u001b[0;34m.\u001b[0m\u001b[0mappend\u001b[0m\u001b[0;34m(\u001b[0m\u001b[0mnewlines\u001b[0m\u001b[0;34m[\u001b[0m\u001b[0;36m0\u001b[0m\u001b[0;34m]\u001b[0m\u001b[0;34m)\u001b[0m\u001b[0;34m\u001b[0m\u001b[0m\n",
        "\u001b[0;32m/opt/local/Library/Frameworks/Python.framework/Versions/2.7/lib/python2.7/site-packages/pandas/tseries/plotting.pyc\u001b[0m in \u001b[0;36mtsplot\u001b[0;34m(series, plotf, **kwargs)\u001b[0m\n\u001b[1;32m     75\u001b[0m         \u001b[0margs\u001b[0m\u001b[0;34m.\u001b[0m\u001b[0mappend\u001b[0m\u001b[0;34m(\u001b[0m\u001b[0mstyle\u001b[0m\u001b[0;34m)\u001b[0m\u001b[0;34m\u001b[0m\u001b[0m\n\u001b[1;32m     76\u001b[0m \u001b[0;34m\u001b[0m\u001b[0m\n\u001b[0;32m---> 77\u001b[0;31m     \u001b[0mlines\u001b[0m \u001b[0;34m=\u001b[0m \u001b[0mplotf\u001b[0m\u001b[0;34m(\u001b[0m\u001b[0max\u001b[0m\u001b[0;34m,\u001b[0m \u001b[0;34m*\u001b[0m\u001b[0margs\u001b[0m\u001b[0;34m,\u001b[0m \u001b[0;34m**\u001b[0m\u001b[0mkwargs\u001b[0m\u001b[0;34m)\u001b[0m\u001b[0;34m\u001b[0m\u001b[0m\n\u001b[0m\u001b[1;32m     78\u001b[0m     \u001b[0mlabel\u001b[0m \u001b[0;34m=\u001b[0m \u001b[0mkwargs\u001b[0m\u001b[0;34m.\u001b[0m\u001b[0mget\u001b[0m\u001b[0;34m(\u001b[0m\u001b[0;34m'label'\u001b[0m\u001b[0;34m,\u001b[0m \u001b[0mNone\u001b[0m\u001b[0;34m)\u001b[0m\u001b[0;34m\u001b[0m\u001b[0m\n\u001b[1;32m     79\u001b[0m \u001b[0;34m\u001b[0m\u001b[0m\n",
        "\u001b[0;32m/opt/local/Library/Frameworks/Python.framework/Versions/2.7/lib/python2.7/site-packages/matplotlib/axes.pyc\u001b[0m in \u001b[0;36mplot\u001b[0;34m(self, *args, **kwargs)\u001b[0m\n\u001b[1;32m   4135\u001b[0m         \u001b[0mlines\u001b[0m \u001b[0;34m=\u001b[0m \u001b[0;34m[\u001b[0m\u001b[0;34m]\u001b[0m\u001b[0;34m\u001b[0m\u001b[0m\n\u001b[1;32m   4136\u001b[0m \u001b[0;34m\u001b[0m\u001b[0m\n\u001b[0;32m-> 4137\u001b[0;31m         \u001b[0;32mfor\u001b[0m \u001b[0mline\u001b[0m \u001b[0;32min\u001b[0m \u001b[0mself\u001b[0m\u001b[0;34m.\u001b[0m\u001b[0m_get_lines\u001b[0m\u001b[0;34m(\u001b[0m\u001b[0;34m*\u001b[0m\u001b[0margs\u001b[0m\u001b[0;34m,\u001b[0m \u001b[0;34m**\u001b[0m\u001b[0mkwargs\u001b[0m\u001b[0;34m)\u001b[0m\u001b[0;34m:\u001b[0m\u001b[0;34m\u001b[0m\u001b[0m\n\u001b[0m\u001b[1;32m   4138\u001b[0m             \u001b[0mself\u001b[0m\u001b[0;34m.\u001b[0m\u001b[0madd_line\u001b[0m\u001b[0;34m(\u001b[0m\u001b[0mline\u001b[0m\u001b[0;34m)\u001b[0m\u001b[0;34m\u001b[0m\u001b[0m\n\u001b[1;32m   4139\u001b[0m             \u001b[0mlines\u001b[0m\u001b[0;34m.\u001b[0m\u001b[0mappend\u001b[0m\u001b[0;34m(\u001b[0m\u001b[0mline\u001b[0m\u001b[0;34m)\u001b[0m\u001b[0;34m\u001b[0m\u001b[0m\n",
        "\u001b[0;32m/opt/local/Library/Frameworks/Python.framework/Versions/2.7/lib/python2.7/site-packages/matplotlib/axes.pyc\u001b[0m in \u001b[0;36m_grab_next_args\u001b[0;34m(self, *args, **kwargs)\u001b[0m\n\u001b[1;32m    315\u001b[0m                 \u001b[0;32mreturn\u001b[0m\u001b[0;34m\u001b[0m\u001b[0m\n\u001b[1;32m    316\u001b[0m             \u001b[0;32mif\u001b[0m \u001b[0mlen\u001b[0m\u001b[0;34m(\u001b[0m\u001b[0mremaining\u001b[0m\u001b[0;34m)\u001b[0m \u001b[0;34m<=\u001b[0m \u001b[0;36m3\u001b[0m\u001b[0;34m:\u001b[0m\u001b[0;34m\u001b[0m\u001b[0m\n\u001b[0;32m--> 317\u001b[0;31m                 \u001b[0;32mfor\u001b[0m \u001b[0mseg\u001b[0m \u001b[0;32min\u001b[0m \u001b[0mself\u001b[0m\u001b[0;34m.\u001b[0m\u001b[0m_plot_args\u001b[0m\u001b[0;34m(\u001b[0m\u001b[0mremaining\u001b[0m\u001b[0;34m,\u001b[0m \u001b[0mkwargs\u001b[0m\u001b[0;34m)\u001b[0m\u001b[0;34m:\u001b[0m\u001b[0;34m\u001b[0m\u001b[0m\n\u001b[0m\u001b[1;32m    318\u001b[0m                     \u001b[0;32myield\u001b[0m \u001b[0mseg\u001b[0m\u001b[0;34m\u001b[0m\u001b[0m\n\u001b[1;32m    319\u001b[0m                 \u001b[0;32mreturn\u001b[0m\u001b[0;34m\u001b[0m\u001b[0m\n",
        "\u001b[0;32m/opt/local/Library/Frameworks/Python.framework/Versions/2.7/lib/python2.7/site-packages/matplotlib/axes.pyc\u001b[0m in \u001b[0;36m_plot_args\u001b[0;34m(self, tup, kwargs)\u001b[0m\n\u001b[1;32m    303\u001b[0m         \u001b[0mncx\u001b[0m\u001b[0;34m,\u001b[0m \u001b[0mncy\u001b[0m \u001b[0;34m=\u001b[0m \u001b[0mx\u001b[0m\u001b[0;34m.\u001b[0m\u001b[0mshape\u001b[0m\u001b[0;34m[\u001b[0m\u001b[0;36m1\u001b[0m\u001b[0;34m]\u001b[0m\u001b[0;34m,\u001b[0m \u001b[0my\u001b[0m\u001b[0;34m.\u001b[0m\u001b[0mshape\u001b[0m\u001b[0;34m[\u001b[0m\u001b[0;36m1\u001b[0m\u001b[0;34m]\u001b[0m\u001b[0;34m\u001b[0m\u001b[0m\n\u001b[1;32m    304\u001b[0m         \u001b[0;32mfor\u001b[0m \u001b[0mj\u001b[0m \u001b[0;32min\u001b[0m \u001b[0mxrange\u001b[0m\u001b[0;34m(\u001b[0m\u001b[0mmax\u001b[0m\u001b[0;34m(\u001b[0m\u001b[0mncx\u001b[0m\u001b[0;34m,\u001b[0m \u001b[0mncy\u001b[0m\u001b[0;34m)\u001b[0m\u001b[0;34m)\u001b[0m\u001b[0;34m:\u001b[0m\u001b[0;34m\u001b[0m\u001b[0m\n\u001b[0;32m--> 305\u001b[0;31m             \u001b[0mseg\u001b[0m \u001b[0;34m=\u001b[0m \u001b[0mfunc\u001b[0m\u001b[0;34m(\u001b[0m\u001b[0mx\u001b[0m\u001b[0;34m[\u001b[0m\u001b[0;34m:\u001b[0m\u001b[0;34m,\u001b[0m \u001b[0mj\u001b[0m \u001b[0;34m%\u001b[0m \u001b[0mncx\u001b[0m\u001b[0;34m]\u001b[0m\u001b[0;34m,\u001b[0m \u001b[0my\u001b[0m\u001b[0;34m[\u001b[0m\u001b[0;34m:\u001b[0m\u001b[0;34m,\u001b[0m \u001b[0mj\u001b[0m \u001b[0;34m%\u001b[0m \u001b[0mncy\u001b[0m\u001b[0;34m]\u001b[0m\u001b[0;34m,\u001b[0m \u001b[0mkw\u001b[0m\u001b[0;34m,\u001b[0m \u001b[0mkwargs\u001b[0m\u001b[0;34m)\u001b[0m\u001b[0;34m\u001b[0m\u001b[0m\n\u001b[0m\u001b[1;32m    306\u001b[0m             \u001b[0mret\u001b[0m\u001b[0;34m.\u001b[0m\u001b[0mappend\u001b[0m\u001b[0;34m(\u001b[0m\u001b[0mseg\u001b[0m\u001b[0;34m)\u001b[0m\u001b[0;34m\u001b[0m\u001b[0m\n\u001b[1;32m    307\u001b[0m         \u001b[0;32mreturn\u001b[0m \u001b[0mret\u001b[0m\u001b[0;34m\u001b[0m\u001b[0m\n",
        "\u001b[0;32m/opt/local/Library/Frameworks/Python.framework/Versions/2.7/lib/python2.7/site-packages/matplotlib/axes.pyc\u001b[0m in \u001b[0;36m_makeline\u001b[0;34m(self, x, y, kw, kwargs)\u001b[0m\n\u001b[1;32m    255\u001b[0m                             \u001b[0;34m**\u001b[0m\u001b[0mkw\u001b[0m\u001b[0;34m\u001b[0m\u001b[0m\n\u001b[1;32m    256\u001b[0m                             )\n\u001b[0;32m--> 257\u001b[0;31m         \u001b[0mself\u001b[0m\u001b[0;34m.\u001b[0m\u001b[0mset_lineprops\u001b[0m\u001b[0;34m(\u001b[0m\u001b[0mseg\u001b[0m\u001b[0;34m,\u001b[0m \u001b[0;34m**\u001b[0m\u001b[0mkwargs\u001b[0m\u001b[0;34m)\u001b[0m\u001b[0;34m\u001b[0m\u001b[0m\n\u001b[0m\u001b[1;32m    258\u001b[0m         \u001b[0;32mreturn\u001b[0m \u001b[0mseg\u001b[0m\u001b[0;34m\u001b[0m\u001b[0m\n\u001b[1;32m    259\u001b[0m \u001b[0;34m\u001b[0m\u001b[0m\n",
        "\u001b[0;32m/opt/local/Library/Frameworks/Python.framework/Versions/2.7/lib/python2.7/site-packages/matplotlib/axes.pyc\u001b[0m in \u001b[0;36mset_lineprops\u001b[0;34m(self, line, **kwargs)\u001b[0m\n\u001b[1;32m    196\u001b[0m             \u001b[0mfuncName\u001b[0m \u001b[0;34m=\u001b[0m \u001b[0;34m\"set_%s\"\u001b[0m \u001b[0;34m%\u001b[0m \u001b[0mkey\u001b[0m\u001b[0;34m\u001b[0m\u001b[0m\n\u001b[1;32m    197\u001b[0m             \u001b[0;32mif\u001b[0m \u001b[0;32mnot\u001b[0m \u001b[0mhasattr\u001b[0m\u001b[0;34m(\u001b[0m\u001b[0mline\u001b[0m\u001b[0;34m,\u001b[0m \u001b[0mfuncName\u001b[0m\u001b[0;34m)\u001b[0m\u001b[0;34m:\u001b[0m\u001b[0;34m\u001b[0m\u001b[0m\n\u001b[0;32m--> 198\u001b[0;31m                 \u001b[0;32mraise\u001b[0m \u001b[0mTypeError\u001b[0m\u001b[0;34m(\u001b[0m\u001b[0;34m'There is no line property \"%s\"'\u001b[0m \u001b[0;34m%\u001b[0m \u001b[0mkey\u001b[0m\u001b[0;34m)\u001b[0m\u001b[0;34m\u001b[0m\u001b[0m\n\u001b[0m\u001b[1;32m    199\u001b[0m             \u001b[0mfunc\u001b[0m \u001b[0;34m=\u001b[0m \u001b[0mgetattr\u001b[0m\u001b[0;34m(\u001b[0m\u001b[0mline\u001b[0m\u001b[0;34m,\u001b[0m \u001b[0mfuncName\u001b[0m\u001b[0;34m)\u001b[0m\u001b[0;34m\u001b[0m\u001b[0m\n\u001b[1;32m    200\u001b[0m             \u001b[0mfunc\u001b[0m\u001b[0;34m(\u001b[0m\u001b[0mval\u001b[0m\u001b[0;34m)\u001b[0m\u001b[0;34m\u001b[0m\u001b[0m\n",
        "\u001b[0;31mTypeError\u001b[0m: There is no line property \"figheight\""
       ]
      },
      {
       "metadata": {},
       "output_type": "display_data",
       "png": "[encoded data removed]",
       "text": [
        "<matplotlib.figure.Figure at 0x10c304a50>"
       ]
      }
     ],
     "prompt_number": 84
    },
    {
     "cell_type": "markdown",
     "metadata": {
      "slideshow": {
       "slide_type": "subslide"
      }
     },
     "source": [
      "Customizing the graph produced by pandas\n",
      "====== "
     ]
    },
    {
     "cell_type": "code",
     "collapsed": false,
     "input": [
      "ax = pd.rolling_mean(resampled_closes, 4, freq = \"5D\")[3:].plot(lw = 2);\n",
      "ax.xaxis.set_minor_formatter(NullFormatter())\n",
      "ax.xaxis.set_major_locator(MonthLocator(bymonthday=1))\n",
      "ax.xaxis.set_major_formatter(DateFormatter(\"%b\"))\n",
      "ax.set_xlabel(\"\");\n",
      "fig = plt.gcf()\n",
      "fig.set_figheight(3)"
     ],
     "language": "python",
     "metadata": {},
     "outputs": []
    },
    {
     "cell_type": "markdown",
     "metadata": {
      "slideshow": {
       "slide_type": "subslide"
      }
     },
     "source": [
      "Exercises: Pandas\n",
      "====== \n",
      "\n",
      "* Using the same data as in the examples, calculate mean monthly closing prices but using only odd dates (i.e 1st of Jul, 3rd of Jul, ...)"
     ]
    },
    {
     "cell_type": "markdown",
     "metadata": {
      "slideshow": {
       "slide_type": "slide"
      }
     },
     "source": [
      "# Basemap\n",
      "## The author is Jeff Whitaker.  \n",
      "## Basemap code is available on [github](https://github.com/matplotlib/basemap).\n",
      "\n",
      "## Example [gallery](http://matplotlib.org/basemap/users/examples.html).\n",
      "\n",
      "PyNGL - can be used as an alternative."
     ]
    },
    {
     "cell_type": "markdown",
     "metadata": {
      "slideshow": {
       "slide_type": "subslide"
      }
     },
     "source": [
      "# The usual workflow with the library:\n",
      "\n",
      "\n",
      "* **Create a basemap object**\n",
      "<pre class=\"co\">\n",
      "basemap = Basemap(projection=\"...\", ...)\n",
      "</pre>\n",
      "\n",
      "\n",
      "* **Draw your field using:** \n",
      "<pre class=\"co\">\n",
      "basemap.contour(), basemap.contourf(), \n",
      "basemap.pcolormesh()\n",
      "</pre>\n",
      "\n",
      "* **It provides utility functions to draw coastlines, meridians and shapefiles (only those that contain lat/lon coordinates), mask ocean points.**\n",
      "\n",
      "* **Drawing the colorbar is as easy as:**\n",
      "<pre class=\"co\">\n",
      "basemap.colorbar(img)\n",
      "</pre>\n",
      "    \n"
     ]
    },
    {
     "cell_type": "markdown",
     "metadata": {
      "slideshow": {
       "slide_type": "subslide"
      }
     },
     "source": [
      "# Basemap\n",
      "Can be used for nice map backgrounds"
     ]
    },
    {
     "cell_type": "code",
     "collapsed": false,
     "input": [
      "from mpl_toolkits.basemap import Basemap\n",
      "b = Basemap()\n",
      "fig, (ax1, ax2) = plt.subplots(1,2)\n",
      "fig.set_size_inches((15,10))\n",
      "b.warpimage(ax = ax1, scale = 0.1); \n",
      "\n",
      "im = b.etopo(ax = ax2, scale = 0.1); "
     ],
     "language": "python",
     "metadata": {},
     "outputs": []
    },
    {
     "cell_type": "markdown",
     "metadata": {
      "slideshow": {
       "slide_type": "subslide"
      }
     },
     "source": [
      "# Basemap: display model results in rotated lat/lon projection"
     ]
    },
    {
     "cell_type": "code",
     "collapsed": false,
     "input": [
      "import os\n",
      "import urllib2\n",
      "\n",
      "f_name = \"monthly_mean_qc_0.1_1979_05_PR.rpn.nc\"\n",
      "base_url = \"http://scaweb.sca.uqam.ca/~huziy/example_data\"\n",
      "#Fetch the file if it is not there\n",
      "if os.path.isfile(f_name):\n",
      "    url = os.path.join(base_url, f_name)\n",
      "    s = urllib2.urlopen(url)\n",
      "    with open(f_name, \"wb\") as local_file:\n",
      "        local_file.write(s.read())\n",
      "\n",
      "#read the file and check what is inside\n",
      "ds_pr = Dataset(f_name)\n",
      "print ds_pr.variables.keys()"
     ],
     "language": "python",
     "metadata": {},
     "outputs": []
    },
    {
     "cell_type": "markdown",
     "metadata": {
      "slideshow": {
       "slide_type": "subslide"
      }
     },
     "source": [
      "Read data from the NetCDF file\n",
      "===="
     ]
    },
    {
     "cell_type": "code",
     "collapsed": false,
     "input": [
      "rotpole = ds_pr.variables[\"rotated_pole\"]\n",
      "lon = ds_pr.variables[\"lon\"][:]\n",
      "lat = ds_pr.variables[\"lat\"][:]\n",
      "data = ds_pr.variables[\"preacc\"][:].squeeze()\n",
      "#rotpole.ncattrs(); - returns a list of netcdf attributes of a variable\n",
      "print rotpole.grid_north_pole_latitude, \\\n",
      "      rotpole.grid_north_pole_longitude, \\\n",
      "      rotpole.north_pole_grid_longitude"
     ],
     "language": "python",
     "metadata": {
      "slideshow": {
       "slide_type": "fragment"
      }
     },
     "outputs": []
    },
    {
     "cell_type": "markdown",
     "metadata": {
      "slideshow": {
       "slide_type": "subslide"
      }
     },
     "source": [
      "Creating a basemap object for the data\n",
      "======"
     ]
    },
    {
     "cell_type": "code",
     "collapsed": false,
     "input": [
      "lon_0 = rotpole.grid_north_pole_longitude - 180\n",
      "o_lon_p = rotpole.north_pole_grid_longitude\n",
      "o_lat_p = rotpole.grid_north_pole_latitude\n",
      "\n",
      "b = Basemap(projection=\"rotpole\", \n",
      "            lon_0=lon_0, \n",
      "            o_lon_p = o_lon_p, o_lat_p = o_lat_p,\n",
      "            llcrnrlon = lon[0, 0], llcrnrlat = lat[0, 0],\n",
      "            urcrnrlon = lon[-1, -1], urcrnrlat = lat[-1, -1], \n",
      "            resolution=\"l\")"
     ],
     "language": "python",
     "metadata": {},
     "outputs": []
    },
    {
     "cell_type": "markdown",
     "metadata": {
      "slideshow": {
       "slide_type": "subslide"
      }
     },
     "source": [
      "Plot the data\n",
      "====="
     ]
    },
    {
     "cell_type": "code",
     "collapsed": false,
     "input": [
      "font_size = 20\n",
      "params = {\n",
      "        'xtick.labelsize': font_size,\n",
      "        'ytick.labelsize': font_size,\n",
      "}\n",
      "plt.rcParams.update(params) #Increase font size globally to the same value"
     ],
     "language": "python",
     "metadata": {
      "slideshow": {
       "slide_type": "skip"
      }
     },
     "outputs": []
    },
    {
     "cell_type": "code",
     "collapsed": false,
     "input": [
      "x, y = b(lon, lat) # native coordinates\n",
      "fig, (ax1, ax2) = plt.subplots(1,2)\n",
      "fig.set_size_inches((10, 4))\n",
      "im = b.contourf(x, y, data, ax = ax1)\n",
      "b.colorbar(im, ax = ax1)\n",
      "b.drawcoastlines(linewidth=0.5);\n",
      "to_plot = np.ma.masked_where(data <= 2, data) \n",
      "im = b.contourf(x, y, to_plot, ax = ax2)\n",
      "b.colorbar(im, ax = ax2)\n",
      "b.drawcoastlines(linewidth=0.5);"
     ],
     "language": "python",
     "metadata": {},
     "outputs": []
    },
    {
     "cell_type": "markdown",
     "metadata": {
      "slideshow": {
       "slide_type": "subslide"
      }
     },
     "source": [
      "Masking oceans is as easy as\n",
      "====="
     ]
    },
    {
     "cell_type": "code",
     "collapsed": false,
     "input": [
      "from mpl_toolkits.basemap import maskoceans\n",
      "lon1 = lon.copy()\n",
      "lon1[lon1 > 180] = lon1[lon1 > 180] - 360\n",
      "data_no_ocean = maskoceans(lon1, lat, data)\n",
      "fig, ax = plt.subplots(1,1)\n",
      "fig.set_size_inches(10, 4)\n",
      "im = b.contourf(x, y, data_no_ocean, ax = ax)\n",
      "b.colorbar(im, ax = ax)\n",
      "b.drawcoastlines(linewidth=0.5, ax = ax);"
     ],
     "language": "python",
     "metadata": {},
     "outputs": []
    },
    {
     "cell_type": "code",
     "collapsed": false,
     "input": [
      "font_size = plt.rcParamsDefault['xtick.labelsize']\n",
      "params = {\n",
      "        'xtick.labelsize': font_size,\n",
      "        'ytick.labelsize': font_size,\n",
      "}\n",
      "plt.rcParams.update(params) #set back font size to the default value"
     ],
     "language": "python",
     "metadata": {
      "slideshow": {
       "slide_type": "skip"
      }
     },
     "outputs": []
    },
    {
     "cell_type": "markdown",
     "metadata": {
      "slideshow": {
       "slide_type": "subslide"
      }
     },
     "source": [
      "# Basemap: reading and visualizing shape files (Download data)"
     ]
    },
    {
     "cell_type": "code",
     "collapsed": false,
     "input": [
      "#download the shape files directory\n",
      "from urllib2 import urlopen\n",
      "import re\n",
      "\n",
      "local_folder = \"countries\"\n",
      "remote_folder = 'http://scaweb.sca.uqam.ca/~huziy/example_data/countries/'\n",
      "if not os.path.isdir(local_folder):\n",
      "    urlpath = urlopen(remote_folder)\n",
      "    string = urlpath.read().decode('utf-8')\n",
      "    pattern = re.compile(r'cntry00\\....\"')\n",
      "    filelist = pattern.findall(string)\n",
      "    filelist = [s[:-1] for s in filelist if not s.endswith('zip\"')]\n",
      "    \n",
      "    os.mkdir(local_folder)\n",
      "    for fname in filelist:\n",
      "        f_path = os.path.join(local_folder, fname)\n",
      "        remote_f_path = os.path.join(remote_folder, fname)\n",
      "        #download selected files\n",
      "        with open(f_path, \"wb\") as fobj:\n",
      "            fobj.write(urlopen(remote_f_path).read())"
     ],
     "language": "python",
     "metadata": {},
     "outputs": []
    },
    {
     "cell_type": "markdown",
     "metadata": {
      "slideshow": {
       "slide_type": "subslide"
      }
     },
     "source": [
      "# Basemap: reading and visualizing shape files"
     ]
    },
    {
     "cell_type": "code",
     "collapsed": false,
     "input": [
      "import brewer2mpl\n",
      "bworld = Basemap()\n",
      "shp_file = os.path.join(local_folder, \"cntry00\")\n",
      "ncountries, _, _, _, linecollection = bworld.readshapefile(shp_file, \"country\")\n",
      "brew_cmap = brewer2mpl.get_map(\"Dark2\", \"Qualitative\", 8)\n",
      "cmap = brew_cmap.get_mpl_colormap()\n",
      "\n",
      "colors = [0] * ncountries\n",
      "for the_contry_dict in bworld.country_info:\n",
      "    code = the_contry_dict[\"ISO_2DIGIT\"]\n",
      "    shp_num = the_contry_dict[\"SHAPENUM\"] - 1\n",
      "    colors[shp_num] = cmap(float(the_contry_dict[\"POP_CNTRY\"]))\n",
      "\n",
      "linecollection.set_array(np.array(colors));\n",
      "bworld.colorbar(linecollection)"
     ],
     "language": "python",
     "metadata": {},
     "outputs": []
    },
    {
     "cell_type": "code",
     "collapsed": false,
     "input": [
      "len(bworld.country_info)"
     ],
     "language": "python",
     "metadata": {},
     "outputs": []
    },
    {
     "cell_type": "markdown",
     "metadata": {
      "slideshow": {
       "slide_type": "subslide"
      }
     },
     "source": [
      "# Basemap: plotting wind field"
     ]
    },
    {
     "cell_type": "code",
     "collapsed": false,
     "input": [
      "#TODO: add an example\n"
     ],
     "language": "python",
     "metadata": {},
     "outputs": []
    },
    {
     "cell_type": "markdown",
     "metadata": {
      "slideshow": {
       "slide_type": "subslide"
      }
     },
     "source": [
      "Exercises: Basemap\n",
      "====="
     ]
    },
    {
     "cell_type": "markdown",
     "metadata": {},
     "source": [
      "* Plot fields `preacc` and `air` from [here](http://scaweb.sca.uqam.ca/~huziy/example_data/wm201_Arctic_JJA_1990-2008_moyenneDesMoyennes.nc) using basemap. Add meridians and parallels as well as rivers to the map. Use subplots to put the plots side by side.\n",
      "\n",
      "* Plot field `preacc` from [here](http://scaweb.sca.uqam.ca/~huziy/example_data/pm1989010100_00000498p_0.44deg_africa_PR.nc).\n",
      "\n",
      "* In the model configuration files rotated lat/lon projection is defined using coordinates of the 2 points on a rotated equator so in order to calculate parameters needed for `basemap` I use this [class](https://github.com/guziy/RPN/blob/master/src/domains/rotated_lat_lon.py). The methods of interest are `get_north_pole_coords` and `get_true_pole_coords_in_rotated_system`."
     ]
    },
    {
     "cell_type": "markdown",
     "metadata": {
      "slideshow": {
       "slide_type": "slide"
      }
     },
     "source": [
      "cKDTree\n",
      "======\n",
      "\n",
      "* Is a class defined in ```scipy.spatial``` package.\n",
      "\n",
      "\n",
      "* Alternatives: ```pyresample``` and ```basemap.interp```"
     ]
    },
    {
     "cell_type": "markdown",
     "metadata": {
      "slideshow": {
       "slide_type": "subslide"
      }
     },
     "source": [
      "cKDTree - my workflow\n",
      "======\n",
      "\n",
      "##1. Convert all lat/lon coordinates to Cartesian coordinates\n",
      "<pre class=\"co\">\n",
      "    (xs, ys, zs) #correspond to coordinates of the source grid\n",
      "    (xt, yt, zt) #coordinates of the target grid\n",
      "    #All x,y,z - are flattened 1d arrays\n",
      "</pre>\n",
      "\n",
      "##2. Create a cKDTree object representing source grid\n",
      "<pre class=\"co\">\n",
      "    tree = cKDTree(data = zip(xs, ys, zs))\n",
      "</pre>\n"
     ]
    },
    {
     "cell_type": "markdown",
     "metadata": {
      "slideshow": {
       "slide_type": "subslide"
      }
     },
     "source": [
      "cKDTree - my workflow\n",
      "======\n",
      "## 3. Query indices of the nearest target cells and distances to the corresponding source cells\n",
      "<pre class=\"co\"> \n",
      "    dists, inds = tree.query(zip(xt, yt, zt), k = 1)\n",
      "    #k = 1, means find 1 nearest point\n",
      "</pre>\n",
      "\n",
      "## 4. Get interpolated data (and reshape it to 2D)\n",
      "<pre class=\"co\">\n",
      "    data_target = data_source[inds].reshape(lon_target.shape)\n",
      "</pre>"
     ]
    },
    {
     "cell_type": "markdown",
     "metadata": {
      "slideshow": {
       "slide_type": "subslide"
      }
     },
     "source": [
      "cKDTree\n",
      "======\n",
      "\n",
      "* For an example usage of ```cKDTree```, please read my post at [earthpy.org](http://earthpy.org/interpolation_between_grids_with_ckdtree.html) \n",
      "\n",
      "\n",
      "* There is a folowup to that post about ```pyresample``` [here](http://earthpy.org/interpolation_between_grids_with_pyresample.html)."
     ]
    },
    {
     "cell_type": "markdown",
     "metadata": {
      "slideshow": {
       "slide_type": "subslide"
      }
     },
     "source": [
      "cKDTree: exercise\n",
      "======\n",
      "\n",
      "* Plot differences between average modelled and observed (CRU grided dataset) temperatures, use inverse distance weighting for intepolation from 20 nearest points.\n",
      "\n",
      "    $$\n",
      "    T_t = \\frac{\\sum_{i=1}^{20}w_i T_{s,i}}{\\sum_{i=1}^{20}w_i}\n",
      "    $$ \n",
      "\n",
      "    where $w_i = 1/d_i^2$, $d_i$ - is the distance between corresponding source and target grid points."
     ]
    },
    {
     "cell_type": "markdown",
     "metadata": {
      "slideshow": {
       "slide_type": "slide"
      }
     },
     "source": [
      "Speeding up your code\n",
      "=====\n",
      "\n",
      "* Avoid loops and try to make use of Numpy/Scipy/Pandas functionality as much as possible\n",
      "\n",
      "\n",
      "* If you have a lot of computations the speedup can be achieved by delegating the computations to the NumExpr module.\n",
      "\n",
      "\n",
      "* You can use Cython to compile libraries to get C-like speed.\n",
      "\n",
      "\n",
      "* Use multiprocessing module if the tasks are fairly independent and cannot be solved using the above methods"
     ]
    },
    {
     "cell_type": "markdown",
     "metadata": {
      "slideshow": {
       "slide_type": "subslide"
      }
     },
     "source": [
      "Multiprocessing example\n",
      "===="
     ]
    },
    {
     "cell_type": "code",
     "collapsed": false,
     "input": [
      "from multiprocessing import Pool\n",
      "\n",
      "def func(x):\n",
      "    return x ** 2\n",
      "\n",
      "p1 = Pool(processes=1)\n",
      "p2 = Pool(processes=2)\n",
      "\n",
      "nums = np.arange(100000)"
     ],
     "language": "python",
     "metadata": {
      "slideshow": {
       "slide_type": "-"
      }
     },
     "outputs": [],
     "prompt_number": 85
    },
    {
     "cell_type": "markdown",
     "metadata": {
      "slideshow": {
       "slide_type": "subslide"
      }
     },
     "source": [
      "Tests of performance gain by using 2 processes instead of 1 on a 2 core machine\n",
      "----"
     ]
    },
    {
     "cell_type": "code",
     "collapsed": false,
     "input": [
      "print p2.map(func, nums)[:10]"
     ],
     "language": "python",
     "metadata": {},
     "outputs": [
      {
       "output_type": "stream",
       "stream": "stdout",
       "text": [
        "[0, 1, 4, 9, 16, 25, 36, 49, 64, 81]\n"
       ]
      }
     ],
     "prompt_number": 86
    },
    {
     "cell_type": "code",
     "collapsed": false,
     "input": [
      "%%timeit \n",
      "\n",
      "p1.map(func, nums)"
     ],
     "language": "python",
     "metadata": {
      "slideshow": {
       "slide_type": "-"
      }
     },
     "outputs": [
      {
       "output_type": "stream",
       "stream": "stdout",
       "text": [
        "1 loops, best of 3: 1.21 s per loop\n"
       ]
      }
     ],
     "prompt_number": 87
    },
    {
     "cell_type": "code",
     "collapsed": false,
     "input": [
      "%%timeit \n",
      "\n",
      "p2.map(func, nums)"
     ],
     "language": "python",
     "metadata": {
      "slideshow": {
       "slide_type": "-"
      }
     },
     "outputs": [
      {
       "output_type": "stream",
       "stream": "stdout",
       "text": [
        "1 loops, best of 3: 1.06 s per loop\n"
       ]
      }
     ],
     "prompt_number": 88
    },
    {
     "cell_type": "markdown",
     "metadata": {
      "slideshow": {
       "slide_type": "subslide"
      }
     },
     "source": [
      "Squaring example using Numpy\n",
      "==="
     ]
    },
    {
     "cell_type": "code",
     "collapsed": false,
     "input": [
      "%%timeit\n",
      "sq = np.asarray(nums) ** 2"
     ],
     "language": "python",
     "metadata": {
      "slideshow": {
       "slide_type": "-"
      }
     },
     "outputs": [
      {
       "output_type": "stream",
       "stream": "stdout",
       "text": [
        "10000 loops, best of 3: 154 \u00b5s per loop\n"
       ]
      }
     ],
     "prompt_number": 89
    },
    {
     "cell_type": "markdown",
     "metadata": {
      "slideshow": {
       "slide_type": "subslide"
      }
     },
     "source": [
      "Squaring example using NumExpr\n",
      "==="
     ]
    },
    {
     "cell_type": "code",
     "collapsed": false,
     "input": [
      "import numexpr as ne\n",
      "print ne.detect_number_of_cores()\n",
      "print ne.evaluate(\"nums ** 2\")[:5]"
     ],
     "language": "python",
     "metadata": {},
     "outputs": [
      {
       "output_type": "stream",
       "stream": "stdout",
       "text": [
        "2\n",
        "[ 0  1  4  9 16]"
       ]
      },
      {
       "output_type": "stream",
       "stream": "stdout",
       "text": [
        "\n"
       ]
      }
     ],
     "prompt_number": 90
    },
    {
     "cell_type": "code",
     "collapsed": false,
     "input": [
      "%%timeit\n",
      "ne.evaluate(\"nums ** 2\")"
     ],
     "language": "python",
     "metadata": {},
     "outputs": [
      {
       "output_type": "stream",
       "stream": "stdout",
       "text": [
        "1000 loops, best of 3: 140 \u00b5s per loop\n"
       ]
      }
     ],
     "prompt_number": 91
    },
    {
     "cell_type": "code",
     "collapsed": false,
     "input": [
      "ne.set_num_threads(1)"
     ],
     "language": "python",
     "metadata": {
      "slideshow": {
       "slide_type": "skip"
      }
     },
     "outputs": [
      {
       "metadata": {},
       "output_type": "pyout",
       "prompt_number": 92,
       "text": [
        "2"
       ]
      }
     ],
     "prompt_number": 92
    },
    {
     "cell_type": "code",
     "collapsed": false,
     "input": [
      "%%timeit\n",
      "ne.evaluate(\"nums**2\")"
     ],
     "language": "python",
     "metadata": {
      "slideshow": {
       "slide_type": "skip"
      }
     },
     "outputs": [
      {
       "output_type": "stream",
       "stream": "stdout",
       "text": [
        "10000 loops, best of 3: 143 \u00b5s per loop\n"
       ]
      }
     ],
     "prompt_number": 93
    },
    {
     "cell_type": "markdown",
     "metadata": {
      "slideshow": {
       "slide_type": "subslide"
      }
     },
     "source": [
      "Squaring example using cythonized function\n",
      "==="
     ]
    },
    {
     "cell_type": "code",
     "collapsed": false,
     "input": [
      "%load_ext cythonmagic"
     ],
     "language": "python",
     "metadata": {},
     "outputs": [],
     "prompt_number": 94
    },
    {
     "cell_type": "code",
     "collapsed": false,
     "input": [
      "%%cython\n",
      "def square_list(the_list):\n",
      "    result = []\n",
      "    cdef int i\n",
      "    for i in the_list:\n",
      "        result.append(i ** 2)\n",
      "    return result"
     ],
     "language": "python",
     "metadata": {},
     "outputs": [],
     "prompt_number": 95
    },
    {
     "cell_type": "code",
     "collapsed": false,
     "input": [
      "%%timeit\n",
      "square_list(nums)"
     ],
     "language": "python",
     "metadata": {
      "slideshow": {
       "slide_type": "fragment"
      }
     },
     "outputs": [
      {
       "output_type": "stream",
       "stream": "stdout",
       "text": [
        "100 loops, best of 3: 15.8 ms per loop\n"
       ]
      }
     ],
     "prompt_number": 96
    },
    {
     "cell_type": "markdown",
     "metadata": {
      "slideshow": {
       "slide_type": "slide"
      }
     },
     "source": [
      "Resources\n",
      "=========\n",
      "\n",
      "* [Python: http://www.python.org/](http://www.python.org/)\n",
      "\n",
      "\n",
      "* [IPython: http://ipython.org/](http://ipython.org/)\n",
      "\n",
      "\n",
      "* [NumPy: http://www.numpy.org/](http://www.numpy.org/) - there is a page NumPy for MATLAB users, might be useful for those familiar with MATLAB.\n",
      "\n",
      "\n",
      "* [SciPy: http://www.scipy.org/](http://www.scipy.org/)\n",
      "\n",
      "\n",
      "* [Scientific python lectures: http://scipy-lectures.github.io/](http://scipy-lectures.github.io/)\n",
      "\n",
      "\n",
      "* [Matplotlib: http://matplotlib.org/](http://matplotlib.org/)"
     ]
    },
    {
     "cell_type": "markdown",
     "metadata": {
      "slideshow": {
       "slide_type": "subslide"
      }
     },
     "source": [
      "Resources\n",
      "=========\n",
      "\n",
      "* [NetCDF4: http://netcdf4-python.googlecode.com/svn/trunk/docs/netCDF4-module.html](http://netcdf4-python.googlecode.com/svn/trunk/docs/netCDF4-module.html)\n",
      "\n",
      "\n",
      "* [Basemap: http://matplotlib.org/basemap/](http://matplotlib.org/basemap/)\n",
      "\n",
      "\n",
      "* My favourite python IDE: [Pycharm](http://www.jetbrains.com/pycharm/), you might also checkout many other like Eclipse, Netbeans, Spyder..."
     ]
    }
   ],
   "metadata": {}
  }
 ]
}