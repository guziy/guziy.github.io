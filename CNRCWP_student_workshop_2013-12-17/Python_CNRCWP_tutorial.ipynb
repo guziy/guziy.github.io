{
 "metadata": {
  "name": ""
 },
 "nbformat": 3,
 "nbformat_minor": 0,
 "worksheets": [
  {
   "cells": [
    {
     "cell_type": "markdown",
     "metadata": {
      "slideshow": {
       "slide_type": "slide"
      }
     },
     "source": [
      "Data handling and visualization using Python\n",
      "=============================================\n",
      "\n",
      "\n",
      "### Oleksandr (Sasha) Huziy\n",
      "\n",
      "##CNRCWP: student workshop\n",
      "\n",
      "##UQ\u00c0M, December 2013\n",
      "\n",
      "\n",
      "<table class=\"logo\">\n",
      "    <tr><td>\n",
      "        <img src=\"files/logo_2.png\"/> <img src=\"files/crsng.png\"/> <img src=\"files/logo_uqam_0.png\"/>\n",
      "    </td></tr>\n",
      "</table>"
     ]
    },
    {
     "cell_type": "markdown",
     "metadata": {
      "slideshow": {
       "slide_type": "slide"
      }
     },
     "source": [
      "Outline\n",
      "========\n",
      "\n",
      "* ##Python basics\n",
      "    * ###Builtin data types\n",
      "    * ###Operations on file system, strings and dates\n",
      "    * ###Modules, classes and functions\n",
      "\n",
      "* ##Libraries for scientific computing\n",
      "    * ###NumPy/SciPy\n",
      "\n",
      "* ##Handling NetCDF4 files\n",
      "    * ###python4-netcdf\n",
      "\n",
      "* ##Plotting libraries\n",
      "    * ###matplotlib\n",
      "    * ###basemap\n",
      "    \n",
      "* ## Interpolation using ```KDTree``` class\n",
      "\n"
     ]
    },
    {
     "cell_type": "markdown",
     "metadata": {
      "slideshow": {
       "slide_type": "slide"
      }
     },
     "source": [
      "Introduction and history\n",
      "=====\n",
      "\n",
      "### Python is an interpreted, strictly typed programming language developed by Guido Van Rossum.\n",
      "### It was created in 90 of the previous century and has seen 3 major releases from that time. \n",
      "\n",
      "\n",
      "\n"
     ]
    },
    {
     "cell_type": "markdown",
     "metadata": {
      "slideshow": {
       "slide_type": "slide"
      }
     },
     "source": [
      "Syntax \n",
      "======="
     ]
    },
    {
     "cell_type": "code",
     "collapsed": false,
     "input": [
      "#Variable decalaration\n",
      "a = 10; b = \"mama\"; x = None;\n",
      "\n",
      "#looping\n",
      "x = [1,2,3,4, 5, \"I am a sixth element\", 7]\n",
      "for el in x:\n",
      "    #Checking conditions\n",
      "    if isinstance(el, int):\n",
      "        print el ** 2 % 10\n",
      "    else:\n",
      "        print el + \", but my index is {0}\".format(x.index(el))"
     ],
     "language": "python",
     "metadata": {},
     "outputs": [
      {
       "output_type": "stream",
       "stream": "stdout",
       "text": [
        "1\n",
        "4\n",
        "9\n",
        "6\n",
        "5\n",
        "I am a sixth element, but my index is 5\n",
        "9\n"
       ]
      }
     ],
     "prompt_number": 15
    },
    {
     "cell_type": "code",
     "collapsed": false,
     "input": [
      "#accessing elements of a list\n",
      "x[3], x[-1], x[1:-1]"
     ],
     "language": "python",
     "metadata": {
      "slideshow": {
       "slide_type": "fragment"
      }
     },
     "outputs": [
      {
       "metadata": {},
       "output_type": "pyout",
       "prompt_number": 14,
       "text": [
        "(4, 7, [2, 3, 4, 5, 'I am a sixth element'])"
       ]
      }
     ],
     "prompt_number": 14
    },
    {
     "cell_type": "markdown",
     "metadata": {
      "slideshow": {
       "slide_type": "slide"
      }
     },
     "source": [
      "Python basics\n",
      "=============\n",
      "##Out of the box python provides the following data structures. Which are actually classes with attributes and methods.\n",
      "\n",
      "* ###list (range, *, +, pop, len, accessing list elements, slices, last element, 5 last elements)\n",
      "  \n",
      "* ###tuple (not mutable, methods)\n",
      "  \n",
      "* ###dictionary (accessing elements, keys, size)\n",
      "\n",
      "* ###set (set theoretical operations, cannot have 2 equal elements)\n",
      "\n"
     ]
    },
    {
     "cell_type": "heading",
     "level": 1,
     "metadata": {
      "slideshow": {
       "slide_type": "subslide"
      }
     },
     "source": [
      "Data structures examples"
     ]
    },
    {
     "cell_type": "code",
     "collapsed": false,
     "input": [
      "#lists (you can conactenate and sort in place)\n",
      "x = [1,2,3,4,5]; y = 5 * [6];\n",
      "z = x + y\n",
      "print z\n",
      "#Test if a number is inside a list\n",
      "print 19 in z, 5 in z, 6 in x and 6 in y "
     ],
     "language": "python",
     "metadata": {
      "slideshow": {
       "slide_type": "fragment"
      }
     },
     "outputs": [
      {
       "output_type": "stream",
       "stream": "stdout",
       "text": [
        "[1, 2, 3, 4, 5, 6, 6, 6, 6, 6]\n",
        "False True False\n"
       ]
      }
     ],
     "prompt_number": 1
    },
    {
     "cell_type": "code",
     "collapsed": false,
     "input": [
      "#tuple is an immutable list, is hashable\n",
      "x = (1,2,3)"
     ],
     "language": "python",
     "metadata": {
      "slideshow": {
       "slide_type": "fragment"
      }
     },
     "outputs": [],
     "prompt_number": 12
    },
    {
     "cell_type": "markdown",
     "metadata": {
      "slideshow": {
       "slide_type": "slide"
      }
     },
     "source": [
      "Python basics\n",
      "==============\n",
      "\n",
      "\n",
      "* ### File system (os, shutil, sys)\n",
      "    * #### create folder, list folder contents, check if file or folder exists \n",
      "* ### Strings (+, *, join, split, regular expressions) \n",
      "* ### Dates (datetime, timedelta, ) "
     ]
    },
    {
     "cell_type": "markdown",
     "metadata": {
      "slideshow": {
       "slide_type": "subslide"
      }
     },
     "source": [
      "#File system"
     ]
    },
    {
     "cell_type": "code",
     "collapsed": false,
     "input": [
      "import os\n",
      "#Check current directory\n",
      "print os.getcwd()"
     ],
     "language": "python",
     "metadata": {
      "slideshow": {
       "slide_type": "-"
      }
     },
     "outputs": [
      {
       "output_type": "stream",
       "stream": "stdout",
       "text": [
        "/home/san/Python/PyNotebooks/CNRCWP_student_workshop_2013-12-17\n"
       ]
      }
     ],
     "prompt_number": 37
    },
    {
     "cell_type": "code",
     "collapsed": false,
     "input": [
      "#get list of files in the current directory\n",
      "flist = os.listdir(\".\")\n",
      "print flist"
     ],
     "language": "python",
     "metadata": {
      "slideshow": {
       "slide_type": "fragment"
      }
     },
     "outputs": [
      {
       "output_type": "stream",
       "stream": "stdout",
       "text": [
        "['test.nc', 'custom.css', 'crsng.png', 'Python_CNRCWP_tutorial.slides.html', '.ipynb_checkpoints', 'logo_uqam_0.png', 'Python_CNRCWP_tutorial.ipynb', 'logo_2.png', 'libpeerconnection.log']\n"
       ]
      }
     ],
     "prompt_number": 38
    },
    {
     "cell_type": "code",
     "collapsed": false,
     "input": [
      "#Check if file exists\n",
      "fname = flist[0]\n",
      "print os.path.isfile(fname), os.path.isdir(fname), os.path.islink(fname)"
     ],
     "language": "python",
     "metadata": {
      "slideshow": {
       "slide_type": "fragment"
      }
     },
     "outputs": [
      {
       "output_type": "stream",
       "stream": "stdout",
       "text": [
        "True False False\n"
       ]
      }
     ],
     "prompt_number": 49
    },
    {
     "cell_type": "markdown",
     "metadata": {
      "slideshow": {
       "slide_type": "fragment"
      }
     },
     "source": [
      "## You might also find useful the following modules: ```sys, shutil, path``` "
     ]
    },
    {
     "cell_type": "markdown",
     "metadata": {
      "slideshow": {
       "slide_type": "subslide"
      }
     },
     "source": [
      "#Strings"
     ]
    },
    {
     "cell_type": "code",
     "collapsed": false,
     "input": [
      "s = \"mama\"\n",
      "#reverse (also works for lists)\n",
      "s[-1::-1]"
     ],
     "language": "python",
     "metadata": {},
     "outputs": [
      {
       "metadata": {},
       "output_type": "pyout",
       "prompt_number": 20,
       "text": [
        "'amam'"
       ]
      }
     ],
     "prompt_number": 20
    },
    {
     "cell_type": "code",
     "collapsed": false,
     "input": [
      "#Dynamically changing parts of a string\n",
      "\"My name is {0}. I am doing my {1}. I am {2} old. Weight is {3:.3f} kg\".format(\"Black\", \"PhD\", 25, 80.7823)"
     ],
     "language": "python",
     "metadata": {
      "slideshow": {
       "slide_type": "fragment"
      }
     },
     "outputs": [
      {
       "metadata": {},
       "output_type": "pyout",
       "prompt_number": 10,
       "text": [
        "'My name is Black. I am doing my PhD. I am 25 old. Weight is 80.782 kg'"
       ]
      }
     ],
     "prompt_number": 10
    },
    {
     "cell_type": "code",
     "collapsed": false,
     "input": [
      "#Splitting\n",
      "s = \"This,is,a,sentence\"\n",
      "s.split(\",\")"
     ],
     "language": "python",
     "metadata": {
      "slideshow": {
       "slide_type": "fragment"
      }
     },
     "outputs": [
      {
       "metadata": {},
       "output_type": "pyout",
       "prompt_number": 22,
       "text": [
        "['This', 'is', 'a', 'sentence']"
       ]
      }
     ],
     "prompt_number": 22
    },
    {
     "cell_type": "markdown",
     "metadata": {
      "slideshow": {
       "slide_type": "subslide"
      }
     },
     "source": [
      "# Dates"
     ]
    },
    {
     "cell_type": "code",
     "collapsed": false,
     "input": [
      "#What time is it\n",
      "from datetime import datetime, timedelta\n",
      "d = datetime.now(); print d"
     ],
     "language": "python",
     "metadata": {},
     "outputs": [
      {
       "output_type": "stream",
       "stream": "stdout",
       "text": [
        "2013-11-29 14:54:09.096052\n"
       ]
      }
     ],
     "prompt_number": 2
    },
    {
     "cell_type": "code",
     "collapsed": false,
     "input": [
      "#Can you give me hours and minutes, please\n",
      "d.strftime(\"%H:%M\"), d.strftime(\"%Hh%Mmin\")"
     ],
     "language": "python",
     "metadata": {
      "slideshow": {
       "slide_type": "fragment"
      }
     },
     "outputs": [
      {
       "metadata": {},
       "output_type": "pyout",
       "prompt_number": 3,
       "text": [
        "('14:54', '14h54min')"
       ]
      }
     ],
     "prompt_number": 3
    },
    {
     "cell_type": "code",
     "collapsed": false,
     "input": [
      "#It is easy to generate a list of dates, with different intervals\n",
      "dt = timedelta(hours = 5)\n",
      "end_date = datetime.now()\n",
      "date_list = [end_date - i * dt for i in range(30)]; date_list.sort()\n",
      "print \"generated dates between {0:%Y-%m-%d %Hh} and {1:%Y-%m-%d %Hh}\".format(date_list[-1], date_list[0])"
     ],
     "language": "python",
     "metadata": {
      "slideshow": {
       "slide_type": "fragment"
      }
     },
     "outputs": [
      {
       "output_type": "stream",
       "stream": "stdout",
       "text": [
        "generated dates between 2013-11-29 14h and 2013-11-23 13h\n"
       ]
      }
     ],
     "prompt_number": 8
    },
    {
     "cell_type": "markdown",
     "metadata": {
      "slideshow": {
       "slide_type": "slide"
      }
     },
     "source": [
      "Python basics - code hierarchy\n",
      "==============\n",
      "\n",
      "+ ### Each python file is a python module, it can contain function and class definitions\n",
      "+ ### A folder with python files and a file ```__init__.py``` (might be empty file) is called package\n",
      "\n"
     ]
    },
    {
     "cell_type": "markdown",
     "metadata": {
      "slideshow": {
       "slide_type": "subslide"
      }
     },
     "source": [
      "##Python basics - defining functions and classes"
     ]
    },
    {
     "cell_type": "code",
     "collapsed": false,
     "input": [
      "from datetime import datetime\n",
      "import time\n",
      "def f(x, name = \"Sasha\"):\n",
      "    \"\"\"\n",
      "    This is the comment describing method arguments and what it actually does\n",
      "    x - dummy argument that demonstrates use of positional arguments\n",
      "    name - demonstrates use of keyword arguments\n",
      "    \"\"\"\n",
      "    print \"Hello {0} !!!\".format(name)\n",
      "\n",
      "class Person(object):\n",
      "    population = 0 #Example of a static class variable\n",
      "    def __init__(self, name = \"Sasha\"):\n",
      "        Person.population += 1\n",
      "        self.birthdate = datetime.now() #instance field, property\n",
      "        \n",
      "    def my_moto(self):\n",
      "        return \"Go go {0}!!!\".format(self.name) \n",
      "    \n",
      "    def get_my_age(self):\n",
      "        return datetime.now() - self.birthdate"
     ],
     "language": "python",
     "metadata": {
      "slideshow": {
       "slide_type": "-"
      }
     },
     "outputs": [],
     "prompt_number": 5
    },
    {
     "cell_type": "markdown",
     "metadata": {
      "slideshow": {
       "slide_type": "subslide"
      }
     },
     "source": [
      "##Python basics - defining functions and classes"
     ]
    },
    {
     "cell_type": "code",
     "collapsed": false,
     "input": [
      "f(\"anything\", name = \"Oleks\") #Calling the function f\n",
      "\n",
      "p1 = Person() #Creating an object of class Person\n",
      "\n",
      "##Create some more person objects\n",
      "for i in range(10):\n",
      "    p = Person()\n",
      "    \n",
      "time.sleep(5) #wait for 5 seconds\n",
      "print \"{0} persons were born just now. \".format(p1.population)\n",
      "print \"And now the first person is {0} old ..\".format(p1.get_my_age())"
     ],
     "language": "python",
     "metadata": {
      "slideshow": {
       "slide_type": "-"
      }
     },
     "outputs": [
      {
       "output_type": "stream",
       "stream": "stdout",
       "text": [
        "Hello Oleks !!!\n",
        "11 persons were born just now. "
       ]
      },
      {
       "output_type": "stream",
       "stream": "stdout",
       "text": [
        "\n",
        "And now the first person is 0:00:05.007139 old ..\n"
       ]
      }
     ],
     "prompt_number": 6
    },
    {
     "cell_type": "markdown",
     "metadata": {
      "slideshow": {
       "slide_type": "slide"
      }
     },
     "source": [
      "NumPy\n",
      "========"
     ]
    },
    {
     "cell_type": "markdown",
     "metadata": {
      "slideshow": {
       "slide_type": "slide"
      }
     },
     "source": [
      "SciPy\n",
      "=======\n",
      "\n",
      "## [Scipy lectures](http://scipy-lectures.github.io/)"
     ]
    },
    {
     "cell_type": "markdown",
     "metadata": {
      "slideshow": {
       "slide_type": "slide"
      }
     },
     "source": [
      "netcdf4-python\n",
      "=================\n",
      "##The python module that for reading and writing NetCDF files in python, created by Jeff Whitaker. \n",
      "##Requires installation of C libraries:\n",
      "\n",
      "* ###NetCDF4\n",
      "* ###HDF5\n",
      "\n",
      "\n"
     ]
    },
    {
     "cell_type": "markdown",
     "metadata": {
      "slideshow": {
       "slide_type": "subslide"
      }
     },
     "source": [
      "#netcd4-python\n",
      "\n",
      "## Below is the example using the **netcdf4-python** library."
     ]
    },
    {
     "cell_type": "code",
     "collapsed": false,
     "input": [
      "from netCDF4 import Dataset\n",
      "import numpy as np\n",
      "\n",
      "##Create netcdf file\n",
      "## Create a file with 3 dimensions time, x, y and 2 variables field1 and field2\n",
      "file_name = \"test.nc\"\n",
      "#open the file\n",
      "ds = Dataset(file_name, mode=\"w\")\n",
      "ds.createDimension(\"x\", 20)\n",
      "ds.createDimension(\"y\", 20)\n",
      "ds.createDimension(\"time\", None)\n",
      "var1 = ds.createVariable(\"field1\", \"f4\", (\"time\", \"x\", \"y\"))\n",
      "var2 = ds.createVariable(\"field2\", \"f4\", (\"time\", \"x\", \"y\"))\n",
      "\n",
      "#generate random data and tell to the program where it should go\n",
      "data = np.random.randn(10, 20, 20)\n",
      "var1[:] = data\n",
      "var2[:] = 10 * data + 10\n",
      "#actually write data to the disk\n",
      "ds.close()\n",
      "\n",
      "#read the file we've just created\n",
      "ds1 = Dataset(file_name)\n",
      "\n",
      "#get variable names\n",
      "print ds1.variables.keys()\n",
      "ds1.close()"
     ],
     "language": "python",
     "metadata": {
      "slideshow": {
       "slide_type": "-"
      }
     },
     "outputs": [
      {
       "output_type": "stream",
       "stream": "stdout",
       "text": [
        "[u'field1', u'field2']\n"
       ]
      }
     ],
     "prompt_number": 1
    },
    {
     "cell_type": "markdown",
     "metadata": {
      "slideshow": {
       "slide_type": "slide"
      }
     },
     "source": [
      "matplotlib\n",
      "============\n",
      "\n",
      "##The module for creating publication quality plots (mainly 2D), created by John Hunter. \n",
      "##An alternative is PyNGL - a wrapper around NCL developed at NCAR.\n",
      "\n",
      "##Let us draw the data we just saved to the netcdf file."
     ]
    },
    {
     "cell_type": "code",
     "collapsed": false,
     "input": [
      "import matplotlib.pyplot as plt\n",
      "from netCDF4 import Dataset\n",
      "from matplotlib.colors import BoundaryNorm\n",
      "from matplotlib import cm\n",
      "\n",
      "ds = Dataset(\"test.nc\")\n",
      "#now data is a netcdf4 Variable object, which contain only links to the data\n",
      "data = ds.variables[\"field1\"]\n",
      "#now we ask to really read the data into the memory\n",
      "all_data = data[:]\n",
      "#print all_data.shape\n",
      "data1 = data[1,:,:]\n",
      "data2 = ds.variables[\"field2\"][2,:,:]"
     ],
     "language": "python",
     "metadata": {
      "slideshow": {
       "slide_type": "fragment"
      }
     },
     "outputs": [],
     "prompt_number": 2
    },
    {
     "cell_type": "markdown",
     "metadata": {
      "slideshow": {
       "slide_type": "subslide"
      }
     },
     "source": [
      "matplotlib\n",
      "============"
     ]
    },
    {
     "cell_type": "code",
     "collapsed": false,
     "input": [
      "#print data1.shape\n",
      "fig, axes = plt.subplots(nrows=1, ncols=3)\n",
      "fig.set_size_inches(10,2.5)\n",
      "\n",
      "levels = [-30,-10, -3,-1,0,1,3,10,30,40]\n",
      "norm = BoundaryNorm(levels, len(levels) - 1)\n",
      "cmap = cm.get_cmap(\"jet\", len(levels) - 1)\n",
      "\n",
      "im1 = axes[0].contourf(data1.transpose(), levels = levels, norm = norm, cmap = cmap)\n",
      "#plt.colorbar(im1, ax = axes[0])\n",
      "im2 = axes[1].contourf(data2.transpose(), levels = levels, norm = norm, cmap = cmap)\n",
      "axes[1].set_yticks([])\n",
      "axes[2].set_aspect(20)\n",
      "cax = axes[2]; cax.set_anchor(\"W\");\n",
      "\n",
      "cb = plt.colorbar(im2, cax = axes[2]);\n",
      "#to save figures directly to files use fig.savefig(\"filename\")"
     ],
     "language": "python",
     "metadata": {
      "slideshow": {
       "slide_type": "-"
      }
     },
     "outputs": [
      {
       "metadata": {},
       "output_type": "display_data",
       "png": "[encoded data removed]",
       "text": [
        "<matplotlib.figure.Figure at 0x4816e50>"
       ]
      }
     ],
     "prompt_number": 16
    },
    {
     "cell_type": "markdown",
     "metadata": {
      "slideshow": {
       "slide_type": "slide"
      }
     },
     "source": [
      "# Basemap\n",
      "## The author is Jeff Whitaker. PyNGL - can be used as an alternative. \n",
      "## Basemap code is available on [github](https://github.com/matplotlib/basemap).\n",
      "\n",
      "## The usual workflow with the library:\n",
      "\n",
      "* ###Create a basemap object\n",
      "    \n",
      "    ```>>> basemap = Basemap(projection=\"<one of the supported projections>\", ...)```\n",
      "    \n",
      "* ###Draw your field using: \n",
      "  \n",
      "    ```>>> basemap.contour(), basemap.contourf(), basemap.pcolormesh()```\n",
      "\n",
      "* ### It provides utility functions to draw coastlines, meridians and shapefiles (only those that contain lat/lon coordinates), mask ocean points.\n",
      "\n",
      "* ### Drawing the colorbar is as easy as: \n",
      "  ```>>> basemap.colorbar(img)```\n",
      "    \n"
     ]
    },
    {
     "cell_type": "markdown",
     "metadata": {
      "slideshow": {
       "slide_type": "subslide"
      }
     },
     "source": [
      "# Examples"
     ]
    },
    {
     "cell_type": "code",
     "collapsed": false,
     "input": [
      "from mpl_toolkits.basemap import Basemap\n",
      "from netCDF4 import Dataset\n",
      "import os\n",
      "\n",
      "os.listdir(\"data\")\n",
      "for f in os.listdir(\"data\"):\n",
      "    pass\n"
     ],
     "language": "python",
     "metadata": {},
     "outputs": [
      {
       "metadata": {},
       "output_type": "pyout",
       "prompt_number": 12,
       "text": [
        "['pm1985010100_00692064p_0.1_qc_pr.nc',\n",
        " 'pm1989010100_00000498p_0.44deg_africa_PR.nc',\n",
        " 'wm201_Arctic_JJA_1990-2008_moyenneDesMoyennes.nc',\n",
        " 'pm1958010100_00002232p_na_0.44deg_AU.nc']"
       ]
      }
     ],
     "prompt_number": 12
    },
    {
     "cell_type": "markdown",
     "metadata": {
      "slideshow": {
       "slide_type": "slide"
      }
     },
     "source": [
      "Resources\n",
      "=========\n",
      "\n",
      "* ### [Python: http://www.python.org/](http://www.python.org/)\n",
      "* ### [IPython: http://ipython.org/](http://ipython.org/)\n",
      "* ### [NumPy: http://www.numpy.org/](http://www.numpy.org/) - there is a page NumPy for MATLAB users, might be useful for those familiar with MATLAB.\n",
      "* ### [SciPy: http://www.scipy.org/](http://www.scipy.org/)\n",
      "* ### [Scientific python lectures: http://scipy-lectures.github.io/](http://scipy-lectures.github.io/)\n",
      "* ### [Matplotlib: http://matplotlib.org/](http://matplotlib.org/)\n",
      "* ### [NetCDF4: http://netcdf4-python.googlecode.com/svn/trunk/docs/netCDF4-module.html](http://netcdf4-python.googlecode.com/svn/trunk/docs/netCDF4-module.html)\n",
      "* ### [Basemap: http://matplotlib.org/basemap/](http://matplotlib.org/basemap/)\n",
      "* ### My favourite python IDE: [Pycharm](http://www.jetbrains.com/pycharm/), you might also checkout many other like Eclipse, Netbeans,Spyder..."
     ]
    },
    {
     "cell_type": "code",
     "collapsed": false,
     "input": [],
     "language": "python",
     "metadata": {},
     "outputs": [],
     "prompt_number": 44
    }
   ],
   "metadata": {}
  }
 ]
}